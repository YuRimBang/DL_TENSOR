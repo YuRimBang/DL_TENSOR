{
 "cells": [
  {
   "cell_type": "markdown",
   "metadata": {},
   "source": [
    "### 매직 코드 (매직 변수, 매직메서드, 메직 함수)\n",
    "- 형태 : _ _변수명_ _, def _ _메서드명_ _( ), def _ _함수명_ _( )\n",
    "- 역할\n",
    "    * 매직코드는 파이썬 시스템에서 사용되고 역할이 이밎 지정되어 있음\n",
    "    * 매직 변수에 데이터 저장 및 변경을 파이썬 시스템에서 진행\n",
    "        * _ _ name_ _, _ _ file _ _\n",
    "    * 매직 메서드 경우 클래스 안에서 사용되는 함수\n",
    "        * def _ _ init _ _ () : 인스턴스/객체 생성 시 파이썬 시스템에서 호출하는 메서드\n",
    "        * def _ _ add _ _ () : 인스턴스/객체에서 연산 기능 (+, -, *, /) 수행 시 파이썬 시스템에서 호출하는 메서드\n",
    "        * def _ _ call _ _ () : 인스턴스/객체변수명으로 호출할 수 있는 기능"
   ]
  },
  {
   "cell_type": "code",
   "execution_count": 21,
   "metadata": {},
   "outputs": [],
   "source": [
    "# 사용자 정의 클래스 생성\n",
    "class A :\n",
    "    #인스턴스/객체 생성 메서드\n",
    "    def __init__(self, num):\n",
    "        print(\"__init__()\")\n",
    "        self.num = num\n",
    "\n",
    "    #연산자 기능 메서드\n",
    "    def __add__(self, y):\n",
    "        print(\"__add__()\", self.num + y.num)\n",
    "\n",
    "    #인스턴스/객체 변수명 호출 처리 메서드\n",
    "    def __call__(self, value):\n",
    "        print('__call__')"
   ]
  },
  {
   "cell_type": "code",
   "execution_count": 22,
   "metadata": {},
   "outputs": [
    {
     "name": "stdout",
     "output_type": "stream",
     "text": [
      "__init__()\n",
      "__init__()\n"
     ]
    }
   ],
   "source": [
    "#인스턴스/객체 생성\n",
    "#클래스이름()\n",
    "a1 = A(5)\n",
    "a2 = A(6)"
   ]
  },
  {
   "cell_type": "code",
   "execution_count": 23,
   "metadata": {},
   "outputs": [
    {
     "name": "stdout",
     "output_type": "stream",
     "text": [
      "__add__() 11\n"
     ]
    }
   ],
   "source": [
    "# 인스턴스/객체 덧셈 연산\n",
    "a1+a2"
   ]
  },
  {
   "cell_type": "code",
   "execution_count": 26,
   "metadata": {},
   "outputs": [
    {
     "name": "stdout",
     "output_type": "stream",
     "text": [
      "__call__\n",
      "__init__()\n",
      "__call__\n"
     ]
    },
    {
     "data": {
      "text/plain": [
       "(None, None)"
      ]
     },
     "execution_count": 26,
     "metadata": {},
     "output_type": "execute_result"
    }
   ],
   "source": [
    "# 인스턴스/객체 변수명으로 호출하는 기능\n",
    "a1(6), A(99)(7)"
   ]
  }
 ],
 "metadata": {
  "kernelspec": {
   "display_name": "TENSOR_39",
   "language": "python",
   "name": "python3"
  },
  "language_info": {
   "codemirror_mode": {
    "name": "ipython",
    "version": 3
   },
   "file_extension": ".py",
   "mimetype": "text/x-python",
   "name": "python",
   "nbconvert_exporter": "python",
   "pygments_lexer": "ipython3",
   "version": "3.9.18"
  }
 },
 "nbformat": 4,
 "nbformat_minor": 2
}
