{
 "cells": [
  {
   "cell_type": "markdown",
   "metadata": {},
   "source": [
    "##### 숫자 손글씨 데이터셋 활용한 분류용   신경망 모델 구현\n",
    "- 데이터셋 : Tensorflow 저장소에서 제공하는 mnist.npz 사용\n",
    "- 데이터 피쳐   : (28, 28) 크기의 이미지 데이터 \n",
    "    * 학습용    : 60000장\n",
    "    * 테스트용  : 10000장\n",
    "- 데이터 라벨   : 0~ 9, 10개 숫자 분류\n",
    "- 학습 방법     : 지도 학습 > 분류 > 다중 분류\n",
    "- 알고리즘      : 신경망 기반 알고리즘 문제 해결"
   ]
  },
  {
   "cell_type": "markdown",
   "metadata": {},
   "source": [
    "[1] 모듈 로딩 및 데이터 준비"
   ]
  },
  {
   "cell_type": "code",
   "execution_count": 15,
   "metadata": {},
   "outputs": [],
   "source": [
    "### 모듈 로딩\n",
    "import tensorflow as tf\n",
    "from tensorflow.keras.datasets.mnist import load_data\n",
    "import numpy as np\n",
    "import matplotlib.pyplot as plt\n",
    "\n",
    "# Initializing libiomp5md.dll, but found libiomp5md.dll already initialized\n",
    "import os \n",
    "os.environ['KMP_DUPLICATE_LIB_OK'] = 'True'"
   ]
  },
  {
   "cell_type": "code",
   "execution_count": 16,
   "metadata": {},
   "outputs": [
    {
     "name": "stdout",
     "output_type": "stream",
     "text": [
      "X_train : (60000, 28, 28) y_train : (60000,)\n",
      "X_test : (10000, 28, 28) y_test : (10000,)\n"
     ]
    }
   ],
   "source": [
    "### 데이터 준비\n",
    "(X_train, y_train), (X_test, y_test) = load_data()\n",
    "\n",
    "print(f'X_train : {X_train.shape} y_train : {y_train.shape}')\n",
    "print(f'X_test : {X_test.shape} y_test : {y_test.shape}')"
   ]
  },
  {
   "cell_type": "code",
   "execution_count": 17,
   "metadata": {},
   "outputs": [
    {
     "data": {
      "image/png": "[encoded data removed]",
      "text/plain": [
       "<Figure size 640x480 with 1 Axes>"
      ]
     },
     "metadata": {},
     "output_type": "display_data"
    }
   ],
   "source": [
    "plt.imshow(X_train[0])\n",
    "plt.show()"
   ]
  },
  {
   "cell_type": "markdown",
   "metadata": {},
   "source": [
    "[2] 데이터 전처리 <hr>\n",
    "- 피쳐\n",
    "    * 2D (28,28) -> 1D 형태 변형\n",
    "    * 값 : 0 ~ 255 -> 정규화 0.0 ~ 1.0\n",
    "- 라벨\n",
    "    * 값 : 정수형 (0 ~ 9) -> 0과 1로 구성된 one-hot Encoding\n",
    "        - 0 : 1 0 0 0 0 0 0 0 0 0\n",
    "        - 1 : 0 1 0 0 0 0 0 0 0 0\n",
    "        ...\n",
    "        - 9 : 0 0 0 0 0 0 0 0 0 1"
   ]
  },
  {
   "cell_type": "code",
   "execution_count": 18,
   "metadata": {},
   "outputs": [
    {
     "name": "stdout",
     "output_type": "stream",
     "text": [
      "x_max : 1.0 , x_min : 0.0\n"
     ]
    }
   ],
   "source": [
    "### 피쳐에 대한 전처리\n",
    "#X_train.dtype, X_train/255, (X_train/255).dtype\n",
    "\n",
    "###[1] 값을 0 ~ 1 정규화 \n",
    "X_train = (X_train/255.)\n",
    "print(f'x_max : {X_train.max()} , x_min : {X_train.min()}')"
   ]
  },
  {
   "cell_type": "code",
   "execution_count": 19,
   "metadata": {},
   "outputs": [],
   "source": [
    "### [2] 데이터 타입 float64 -> float32 변경\n",
    "X_train, X_test = X_train.astype('float32'), X_test.astype('float32')"
   ]
  },
  {
   "cell_type": "code",
   "execution_count": 20,
   "metadata": {},
   "outputs": [
    {
     "name": "stdout",
     "output_type": "stream",
     "text": [
      "X_train shape : (60000, 784), x_test shape : (10000, 784)\n"
     ]
    }
   ],
   "source": [
    "### [3] 2D -> 1D 변형 : 전결합층 (Full-Connected Layer)에 전달하기 위해\n",
    "X_train, X_test = X_train.reshape([-1, 784]), X_test.reshape([-1, 784]) # -1 배열의 크기를 자동으로 계산\n",
    "\n",
    "print(f'X_train shape : {X_train.shape}, x_test shape : {X_test.shape}')"
   ]
  },
  {
   "cell_type": "code",
   "execution_count": 21,
   "metadata": {},
   "outputs": [
    {
     "name": "stdout",
     "output_type": "stream",
     "text": [
      "y_train shape : (60000, 10), y_test shape : (10000, 10)\n"
     ]
    }
   ],
   "source": [
    "### 라벨에 대한 전처리------------------------------------\n",
    "## One-Hot 인코딩\n",
    "y_train, y_test = tf.one_hot(y_train, depth=10), tf.one_hot(y_test, depth=10)\n",
    "\n",
    "print(f'y_train shape : {y_train.shape}, y_test shape : {y_test.shape}')\n"
   ]
  },
  {
   "cell_type": "code",
   "execution_count": 22,
   "metadata": {},
   "outputs": [
    {
     "data": {
      "text/plain": [
       "<tf.Tensor: shape=(30, 10), dtype=float32, numpy=\n",
       "array([[0., 0., 0., 0., 0., 1., 0., 0., 0., 0.],\n",
       "       [1., 0., 0., 0., 0., 0., 0., 0., 0., 0.],\n",
       "       [0., 0., 0., 0., 1., 0., 0., 0., 0., 0.],\n",
       "       [0., 1., 0., 0., 0., 0., 0., 0., 0., 0.],\n",
       "       [0., 0., 0., 0., 0., 0., 0., 0., 0., 1.],\n",
       "       [0., 0., 1., 0., 0., 0., 0., 0., 0., 0.],\n",
       "       [0., 1., 0., 0., 0., 0., 0., 0., 0., 0.],\n",
       "       [0., 0., 0., 1., 0., 0., 0., 0., 0., 0.],\n",
       "       [0., 1., 0., 0., 0., 0., 0., 0., 0., 0.],\n",
       "       [0., 0., 0., 0., 1., 0., 0., 0., 0., 0.],\n",
       "       [0., 0., 0., 1., 0., 0., 0., 0., 0., 0.],\n",
       "       [0., 0., 0., 0., 0., 1., 0., 0., 0., 0.],\n",
       "       [0., 0., 0., 1., 0., 0., 0., 0., 0., 0.],\n",
       "       [0., 0., 0., 0., 0., 0., 1., 0., 0., 0.],\n",
       "       [0., 1., 0., 0., 0., 0., 0., 0., 0., 0.],\n",
       "       [0., 0., 0., 0., 0., 0., 0., 1., 0., 0.],\n",
       "       [0., 0., 1., 0., 0., 0., 0., 0., 0., 0.],\n",
       "       [0., 0., 0., 0., 0., 0., 0., 0., 1., 0.],\n",
       "       [0., 0., 0., 0., 0., 0., 1., 0., 0., 0.],\n",
       "       [0., 0., 0., 0., 0., 0., 0., 0., 0., 1.],\n",
       "       [0., 0., 0., 0., 1., 0., 0., 0., 0., 0.],\n",
       "       [1., 0., 0., 0., 0., 0., 0., 0., 0., 0.],\n",
       "       [0., 0., 0., 0., 0., 0., 0., 0., 0., 1.],\n",
       "       [0., 1., 0., 0., 0., 0., 0., 0., 0., 0.],\n",
       "       [0., 1., 0., 0., 0., 0., 0., 0., 0., 0.],\n",
       "       [0., 0., 1., 0., 0., 0., 0., 0., 0., 0.],\n",
       "       [0., 0., 0., 0., 1., 0., 0., 0., 0., 0.],\n",
       "       [0., 0., 0., 1., 0., 0., 0., 0., 0., 0.],\n",
       "       [0., 0., 1., 0., 0., 0., 0., 0., 0., 0.],\n",
       "       [0., 0., 0., 0., 0., 0., 0., 1., 0., 0.]], dtype=float32)>"
      ]
     },
     "execution_count": 22,
     "metadata": {},
     "output_type": "execute_result"
    }
   ],
   "source": [
    "## 인코딩 결과 확인\n",
    "y_train[:30]"
   ]
  },
  {
   "cell_type": "markdown",
   "metadata": {},
   "source": [
    "[3] 모델 클래스 설계 <hr>\n",
    "- 입력층 : 입력 784개, 출력 10개 (즉, 퍼셉트론이 10개)\n",
    "- 은닉층 : 입력 10개, 출력 20개 (즉, 퍼셉트론이 20개)\n",
    "- 출력충 : 입력 20개, 출력 10개 (즉, 라벨 수)"
   ]
  },
  {
   "cell_type": "code",
   "execution_count": 23,
   "metadata": {},
   "outputs": [],
   "source": [
    "class MyModel(tf.Module):\n",
    "  def __init__(self, **kwargs):   # **kwargs : 0개 ~ N개 매개변수  키=값의 형태 \n",
    "    # 부모생성  \n",
    "    super().__init__(**kwargs)\n",
    "    # 초기 W, b 설정\n",
    "    self.w = tf.Variable(5.0)\n",
    "    self.b = tf.Variable(0.0)\n",
    "\n",
    "  # 학습 처리 메서드 => 가중치*피쳐 + 절편\n",
    "  def __call__(self, x):\n",
    "    return self.w * x + self.b"
   ]
  },
  {
   "cell_type": "code",
   "execution_count": 24,
   "metadata": {},
   "outputs": [],
   "source": [
    "class DenseLayer(tf.Module):\n",
    "    def __init__(self, input_nums, out_nums):\n",
    "        super().__init__()\n",
    "        self.W = tf.Variable(tf.random.normal((input_nums, out_nums)))\n",
    "        self.b = tf.Variable(tf.zeros((out_nums)))\n",
    "    \n",
    "    def __call__(self, input):\n",
    "        wbsum = tf.matmul(input, self.W) + self.b\n",
    "\n",
    "        return wbsum"
   ]
  },
  {
   "cell_type": "code",
   "execution_count": 25,
   "metadata": {},
   "outputs": [],
   "source": [
    "class SequenceLayer(tf.Module):\n",
    "    #인스턴스 생성 메서드\n",
    "    def __init__(self, in_in, in_out, hd_out, out_out, kind='reg'):\n",
    "        super().__init__()\n",
    "        self.kind = kind\n",
    "        \n",
    "        #입력층 : 피쳐개수, 퍼셉트론개수\n",
    "        self.in_layer = DenseLayer(in_in, in_out)\n",
    "\n",
    "        #은닉층 : 피쳐개수, 퍼셉트론개수\n",
    "        self.hd_layer = DenseLayer(in_out, hd_out)\n",
    "        \n",
    "        #출력층 : 피쳐개수, 타켓개수\n",
    "        self.out_layer = DenseLayer(hd_out,out_out)\n",
    "\n",
    "    # 순방향/전방향 학습 메서드\n",
    "    def __call__(self, data):\n",
    "        #입력층 학습\n",
    "        wbsum = self.in_layer(data)\n",
    "        output = tf.nn.relu(wbsum)\n",
    "\n",
    "        #은닉층 학습\n",
    "        wbsum = self.hd_layer(output)\n",
    "        output = tf.nn.relu(wbsum)\n",
    "\n",
    "        #출력층 학습\n",
    "        if self.kind=='reg':\n",
    "            return self.out_layer(output)\n",
    "        elif self.kind == 'binary':\n",
    "            return tf.nn.sigmoid(self.out_layer(output))\n",
    "        elif self.kind == 'multi':\n",
    "            return tf.nn.softmax(self.out_layer(output))\n",
    "        else:\n",
    "            return 'unknown'"
   ]
  },
  {
   "cell_type": "code",
   "execution_count": 26,
   "metadata": {},
   "outputs": [],
   "source": [
    "mnistModel = SequenceLayer(784, 10, 20, 10, 'multi')"
   ]
  }
 ],
 "metadata": {
  "kernelspec": {
   "display_name": "TENSOR_39",
   "language": "python",
   "name": "python3"
  },
  "language_info": {
   "codemirror_mode": {
    "name": "ipython",
    "version": 3
   },
   "file_extension": ".py",
   "mimetype": "text/x-python",
   "name": "python",
   "nbconvert_exporter": "python",
   "pygments_lexer": "ipython3",
   "version": "3.9.18"
  }
 },
 "nbformat": 4,
 "nbformat_minor": 2
}
