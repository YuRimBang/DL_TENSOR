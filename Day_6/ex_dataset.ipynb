{
 "cells": [
  {
   "cell_type": "markdown",
   "metadata": {},
   "source": [
    "#### Tensorflow에서 데이터셋 관련 모듈\n",
    "- tensorflow.data 서브 모듈\n",
    "- 데이터를 모델에 적합한 형태의 Tensor로 변환해주는 기능의 모듈\n",
    "- Dataset 클래스 사용\n",
    "    * 구성 : 피쳐 + 라벨 [지도], 피쳐[비지도/강화]"
   ]
  },
  {
   "cell_type": "markdown",
   "metadata": {},
   "source": [
    "[1] 모듈 로딩 및 데이터 준비<hr>"
   ]
  },
  {
   "cell_type": "code",
   "execution_count": 48,
   "metadata": {},
   "outputs": [],
   "source": [
    "#모듈 로딩\n",
    "import tensorflow as tf #텐서 관련\n",
    "from tensorflow.data import Dataset\n",
    "import numpy as np"
   ]
  },
  {
   "cell_type": "code",
   "execution_count": 49,
   "metadata": {},
   "outputs": [
    {
     "data": {
      "text/plain": [
       "<tf.Tensor: shape=(2, 2, 4), dtype=int32, numpy=\n",
       "array([[[10, 12, 14, 16],\n",
       "        [ 1,  3,  5,  7]],\n",
       "\n",
       "       [[10, 12, 14, 16],\n",
       "        [ 1,  3,  5,  7]]])>"
      ]
     },
     "execution_count": 49,
     "metadata": {},
     "output_type": "execute_result"
    }
   ],
   "source": [
    "# 데이터 준비 -> 임의의 데이터 생성 \n",
    "data = tf.constant([[[10,12,14,16],[1,3,5,7]], [[10,12,14,16],[1,3,5,7]]])\n",
    "data"
   ]
  },
  {
   "cell_type": "markdown",
   "metadata": {},
   "source": [
    "[2] 데이터셋 텐서 생성 2가지 방법 <hr>\n",
    "* 단일 Dataset 생성 : Dataset.from_tensors()\n",
    "* 여러개 Dataset 생성 : Dataset.from_tensor_slices()"
   ]
  },
  {
   "cell_type": "code",
   "execution_count": 50,
   "metadata": {},
   "outputs": [
    {
     "name": "stdout",
     "output_type": "stream",
     "text": [
      "<TensorDataset element_spec=TensorSpec(shape=(2, 2, 4), dtype=tf.int32, name=None)>\n"
     ]
    }
   ],
   "source": [
    "#데이터셋 생성 - 방법(1) from_tensors()\n",
    "dataset0 = Dataset.from_tensors(data)\n",
    "print(dataset0)"
   ]
  },
  {
   "cell_type": "code",
   "execution_count": 51,
   "metadata": {},
   "outputs": [
    {
     "name": "stdout",
     "output_type": "stream",
     "text": [
      "tf.Tensor(\n",
      "[[[10 12 14 16]\n",
      "  [ 1  3  5  7]]\n",
      "\n",
      " [[10 12 14 16]\n",
      "  [ 1  3  5  7]]], shape=(2, 2, 4), dtype=int32)\n"
     ]
    }
   ],
   "source": [
    "#데이터셋은 반복 기능 즉, iterable 기능 -> 내부에 반복자 iterator\n",
    "for ts in dataset0:\n",
    "    print(ts)"
   ]
  },
  {
   "cell_type": "code",
   "execution_count": 52,
   "metadata": {},
   "outputs": [
    {
     "name": "stdout",
     "output_type": "stream",
     "text": [
      "<TensorSliceDataset element_spec=TensorSpec(shape=(2, 4), dtype=tf.int32, name=None)>\n"
     ]
    }
   ],
   "source": [
    "#데이터셋 생성 - 방법(2) from_tensor_slices()\n",
    "dataset1 = Dataset.from_tensor_slices(data)\n",
    "print(dataset1)"
   ]
  },
  {
   "cell_type": "code",
   "execution_count": 53,
   "metadata": {},
   "outputs": [
    {
     "name": "stdout",
     "output_type": "stream",
     "text": [
      "tf.Tensor(\n",
      "[[10 12 14 16]\n",
      " [ 1  3  5  7]], shape=(2, 4), dtype=int32)\n",
      "tf.Tensor(\n",
      "[[10 12 14 16]\n",
      " [ 1  3  5  7]], shape=(2, 4), dtype=int32)\n"
     ]
    }
   ],
   "source": [
    "for ts in dataset1:\n",
    "    print(ts)"
   ]
  },
  {
   "cell_type": "markdown",
   "metadata": {},
   "source": [
    "[3] 데이터셋에서 데이터 추출<hr>"
   ]
  },
  {
   "cell_type": "code",
   "execution_count": 54,
   "metadata": {},
   "outputs": [
    {
     "name": "stdout",
     "output_type": "stream",
     "text": [
      "tf.Tensor(\n",
      "[[[10 12 14 16]\n",
      "  [ 1  3  5  7]]\n",
      "\n",
      " [[10 12 14 16]\n",
      "  [ 1  3  5  7]]], shape=(2, 2, 4), dtype=int32)\n"
     ]
    }
   ],
   "source": [
    "for data in dataset0:\n",
    "    print(data)"
   ]
  },
  {
   "cell_type": "code",
   "execution_count": 55,
   "metadata": {},
   "outputs": [
    {
     "name": "stdout",
     "output_type": "stream",
     "text": [
      "[[[10 12 14 16]\n",
      "  [ 1  3  5  7]]\n",
      "\n",
      " [[10 12 14 16]\n",
      "  [ 1  3  5  7]]] <class 'numpy.ndarray'>\n"
     ]
    }
   ],
   "source": [
    "for data in dataset0.as_numpy_iterator():\n",
    "    print(data, type(data))"
   ]
  },
  {
   "cell_type": "code",
   "execution_count": 56,
   "metadata": {},
   "outputs": [
    {
     "name": "stdout",
     "output_type": "stream",
     "text": [
      "[[10 12 14 16]\n",
      " [ 1  3  5  7]] <class 'numpy.ndarray'>\n",
      "[[10 12 14 16]\n",
      " [ 1  3  5  7]] <class 'numpy.ndarray'>\n"
     ]
    }
   ],
   "source": [
    "for data in dataset1.as_numpy_iterator():\n",
    "    print(data, type(data))"
   ]
  },
  {
   "cell_type": "code",
   "execution_count": 63,
   "metadata": {},
   "outputs": [
    {
     "data": {
      "text/plain": [
       "[array([[[[10, 12, 14, 16],\n",
       "          [ 1,  3,  5,  7]],\n",
       " \n",
       "         [[10, 12, 14, 16],\n",
       "          [ 1,  3,  5,  7]]]])]"
      ]
     },
     "execution_count": 63,
     "metadata": {},
     "output_type": "execute_result"
    }
   ],
   "source": [
    "list(dataset0.batch(8).as_numpy_iterator())"
   ]
  },
  {
   "cell_type": "code",
   "execution_count": 64,
   "metadata": {},
   "outputs": [
    {
     "data": {
      "text/plain": [
       "[array([[[[10, 12, 14, 16],\n",
       "          [ 1,  3,  5,  7]],\n",
       " \n",
       "         [[10, 12, 14, 16],\n",
       "          [ 1,  3,  5,  7]]]])]"
      ]
     },
     "execution_count": 64,
     "metadata": {},
     "output_type": "execute_result"
    }
   ],
   "source": [
    "list(dataset0.batch(3).as_numpy_iterator())"
   ]
  },
  {
   "cell_type": "markdown",
   "metadata": {},
   "source": [
    "<hr>\n",
    "\n",
    "- [MNIST 내장 데이터셋 사용해서 실습]"
   ]
  },
  {
   "cell_type": "code",
   "execution_count": 57,
   "metadata": {},
   "outputs": [],
   "source": [
    "#모듈 로딩\n",
    "from tensorflow.keras.datasets import mnist"
   ]
  },
  {
   "cell_type": "code",
   "execution_count": 58,
   "metadata": {},
   "outputs": [],
   "source": [
    "#내장 데이터셋 로딩\n",
    "(X_train, y_train), (X_test, y_test) = mnist.load_data()"
   ]
  },
  {
   "cell_type": "code",
   "execution_count": 59,
   "metadata": {},
   "outputs": [],
   "source": [
    "#다중 데이터셋 인스턴스 생성 -> 지도학습으로 피쳐와 라벨이 하나로 묶음\n",
    "train_XY = Dataset.from_tensor_slices((X_train, y_train))"
   ]
  },
  {
   "cell_type": "code",
   "execution_count": 60,
   "metadata": {},
   "outputs": [
    {
     "name": "stdout",
     "output_type": "stream",
     "text": [
      "(28, 28) tf.Tensor(5, shape=(), dtype=uint8)\n"
     ]
    }
   ],
   "source": [
    "#데이터셋으로 첫번째 데이터셋 요소만 추출\n",
    "for data, label in train_XY:\n",
    "    print(data.shape, label)\n",
    "    break"
   ]
  }
 ],
 "metadata": {
  "kernelspec": {
   "display_name": "TENSOR_39",
   "language": "python",
   "name": "python3"
  },
  "language_info": {
   "codemirror_mode": {
    "name": "ipython",
    "version": 3
   },
   "file_extension": ".py",
   "mimetype": "text/x-python",
   "name": "python",
   "nbconvert_exporter": "python",
   "pygments_lexer": "ipython3",
   "version": "3.9.18"
  }
 },
 "nbformat": 4,
 "nbformat_minor": 2
}
