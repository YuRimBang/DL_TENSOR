{
 "cells": [
  {
   "cell_type": "markdown",
   "metadata": {},
   "source": [
    "#### 다중분류 모델\n",
    "- 손실 함수\n",
    "- 성능평가"
   ]
  },
  {
   "cell_type": "markdown",
   "metadata": {},
   "source": [
    "- [1] 모듈 로딩 및 데이터 준비 <hr>"
   ]
  },
  {
   "cell_type": "code",
   "execution_count": 5,
   "metadata": {},
   "outputs": [],
   "source": [
    "# 모듈 로딩\n",
    "import tensorflow as tf\n",
    "from tensorflow.keras.datasets import mnist\n",
    "from tensorflow.data import Dataset\n",
    "\n",
    "import numpy as np\n",
    "import matplotlib.pyplot as plt\n"
   ]
  },
  {
   "cell_type": "code",
   "execution_count": 6,
   "metadata": {},
   "outputs": [],
   "source": [
    "### 데이터 로딩 -> 내장 데이터셋 load_data()\n",
    "\n",
    "(X_train, y_train), (X_test, y_test) = mnist.load_data()"
   ]
  },
  {
   "cell_type": "code",
   "execution_count": 7,
   "metadata": {},
   "outputs": [
    {
     "name": "stdout",
     "output_type": "stream",
     "text": [
      "X_train : (60000, 28, 28), y_train : (60000,)\n",
      "X_test : (10000, 28, 28), y_test : (10000,)\n"
     ]
    }
   ],
   "source": [
    "print(f'X_train : {X_train.shape}, y_train : {y_train.shape}')\n",
    "print(f'X_test : {X_test.shape}, y_test : {y_test.shape}')"
   ]
  },
  {
   "cell_type": "markdown",
   "metadata": {},
   "source": [
    "- [2] 데이터 전처리 <hr>\n",
    "    * 피쳐 : 타입, 정규화, 1D\n",
    "    * 타겟 : 인코딩 -> One-Hot Encoding"
   ]
  },
  {
   "cell_type": "code",
   "execution_count": 8,
   "metadata": {},
   "outputs": [
    {
     "name": "stdout",
     "output_type": "stream",
     "text": [
      "x_train_max : 1.0 , x_train_min : 0.0, x_train_shape : (60000, 28, 28), x_train_dtype : float64\n",
      "x_test_max : 1.0 , x_test_min : 0.0, x_test_shape : (10000, 28, 28), x_test_dtype : float64\n"
     ]
    }
   ],
   "source": [
    "## 피쳐 -> 타입, 정규화 (0.0 ~ 1.0), 2D -> 1D\n",
    "## [1] ) ~ 255 -> 0.0 ~ 1.0\n",
    "X_train = X_train/255\n",
    "X_test = X_test/255\n",
    "\n",
    "print(f'x_train_max : {X_train.max()} , x_train_min : {X_train.min()}, x_train_shape : {X_train.shape}, x_train_dtype : {X_train.dtype}')\n",
    "print(f'x_test_max : {X_test.max()} , x_test_min : {X_test.min()}, x_test_shape : {X_test.shape}, x_test_dtype : {X_test.dtype}')"
   ]
  },
  {
   "cell_type": "code",
   "execution_count": 9,
   "metadata": {},
   "outputs": [],
   "source": [
    "## [2] float64 -> float 32\n",
    "X_train = X_train.astype('float32')\n",
    "X_test = X_test.astype('float32')"
   ]
  },
  {
   "cell_type": "code",
   "execution_count": 11,
   "metadata": {},
   "outputs": [
    {
     "name": "stdout",
     "output_type": "stream",
     "text": [
      "X_train shape : (60000, 784), x_test shape : (10000, 784)\n"
     ]
    }
   ],
   "source": [
    "## [3] 2D (28, 28) -> 1D (28*28)\n",
    "X_train, X_test = X_train.reshape([-1, 28*28]), X_test.reshape([-1, 28*28]) # -1 배열의 크기를 자동으로 계산\n",
    "\n",
    "print(f'X_train shape : {X_train.shape}, x_test shape : {X_test.shape}')"
   ]
  },
  {
   "cell_type": "code",
   "execution_count": 12,
   "metadata": {},
   "outputs": [
    {
     "name": "stdout",
     "output_type": "stream",
     "text": [
      "tf.Tensor(\n",
      "[[0. 0. 0. 0. 0. 1. 0. 0. 0. 0.]\n",
      " [1. 0. 0. 0. 0. 0. 0. 0. 0. 0.]\n",
      " [0. 0. 0. 0. 1. 0. 0. 0. 0. 0.]], shape=(3, 10), dtype=float32)\n"
     ]
    }
   ],
   "source": [
    "## 라벨 ->  One-Hot Encoding\n",
    "y_train = tf.one_hot(y_train, depth=10)\n",
    "y_test = tf.one_hot(y_test, depth=10)\n",
    "\n",
    "print(y_train[:3])"
   ]
  },
  {
   "cell_type": "markdown",
   "metadata": {},
   "source": []
  }
 ],
 "metadata": {
  "kernelspec": {
   "display_name": "TENSOR_39",
   "language": "python",
   "name": "python3"
  },
  "language_info": {
   "codemirror_mode": {
    "name": "ipython",
    "version": 3
   },
   "file_extension": ".py",
   "mimetype": "text/x-python",
   "name": "python",
   "nbconvert_exporter": "python",
   "pygments_lexer": "ipython3",
   "version": "3.9.18"
  }
 },
 "nbformat": 4,
 "nbformat_minor": 2
}
