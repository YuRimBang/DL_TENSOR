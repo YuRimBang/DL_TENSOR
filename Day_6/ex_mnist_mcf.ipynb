{
 "cells": [
  {
   "cell_type": "markdown",
   "metadata": {},
   "source": [
    "#### 다중분류 모델\n",
    "- 손실 함수\n",
    "- 성능평가"
   ]
  },
  {
   "cell_type": "markdown",
   "metadata": {},
   "source": [
    "- [1] 모듈 로딩 및 데이터 준비 <hr>"
   ]
  },
  {
   "cell_type": "code",
   "execution_count": 2,
   "metadata": {},
   "outputs": [],
   "source": [
    "# 모듈 로딩\n",
    "import tensorflow as tf\n",
    "from tensorflow.keras.datasets import mnist\n",
    "from tensorflow.data import Dataset\n",
    "\n",
    "import numpy as np\n",
    "import matplotlib.pyplot as plt\n",
    "\n",
    "# Initializing libiomp5md.dll, but found libiomp5md.dll already initialized\n",
    "import os\n",
    "os.environ['KMP_DUPLICATE_LIB_OK'] = 'True'\n"
   ]
  },
  {
   "cell_type": "code",
   "execution_count": 3,
   "metadata": {},
   "outputs": [],
   "source": [
    "### 데이터 로딩 -> 내장 데이터셋 load_data()\n",
    "\n",
    "(X_train, y_train), (X_test, y_test) = mnist.load_data()"
   ]
  },
  {
   "cell_type": "code",
   "execution_count": 4,
   "metadata": {},
   "outputs": [
    {
     "name": "stdout",
     "output_type": "stream",
     "text": [
      "X_train : (60000, 28, 28), y_train : (60000,)\n",
      "X_test : (10000, 28, 28), y_test : (10000,)\n"
     ]
    }
   ],
   "source": [
    "print(f'X_train : {X_train.shape}, y_train : {y_train.shape}')\n",
    "print(f'X_test : {X_test.shape}, y_test : {y_test.shape}')"
   ]
  },
  {
   "cell_type": "code",
   "execution_count": 5,
   "metadata": {},
   "outputs": [
    {
     "data": {
      "image/png": "[encoded data removed]",
      "text/plain": [
       "<Figure size 640x480 with 1 Axes>"
      ]
     },
     "metadata": {},
     "output_type": "display_data"
    }
   ],
   "source": [
    "plt.imshow(X_train[0])\n",
    "plt.title(f'[LABEL {y_train[0]}]')\n",
    "plt.show()"
   ]
  },
  {
   "cell_type": "markdown",
   "metadata": {},
   "source": [
    "- [2] 데이터 전처리 <hr>\n",
    "    * 피쳐 : 타입, 정규화, 1D\n",
    "    * 타겟 : 인코딩 -> One-Hot Encoding"
   ]
  },
  {
   "cell_type": "code",
   "execution_count": 6,
   "metadata": {},
   "outputs": [
    {
     "name": "stdout",
     "output_type": "stream",
     "text": [
      "x_train_max : 1.0 , x_train_min : 0.0, x_train_shape : (60000, 28, 28), x_train_dtype : float64\n",
      "x_test_max : 1.0 , x_test_min : 0.0, x_test_shape : (10000, 28, 28), x_test_dtype : float64\n"
     ]
    }
   ],
   "source": [
    "## 피쳐 -> 타입, 정규화 (0.0 ~ 1.0), 2D -> 1D\n",
    "## [1] ) ~ 255 -> 0.0 ~ 1.0\n",
    "X_train = X_train/255\n",
    "X_test = X_test/255\n",
    "\n",
    "print(f'x_train_max : {X_train.max()} , x_train_min : {X_train.min()}, x_train_shape : {X_train.shape}, x_train_dtype : {X_train.dtype}')\n",
    "print(f'x_test_max : {X_test.max()} , x_test_min : {X_test.min()}, x_test_shape : {X_test.shape}, x_test_dtype : {X_test.dtype}')"
   ]
  },
  {
   "cell_type": "code",
   "execution_count": 7,
   "metadata": {},
   "outputs": [],
   "source": [
    "## [2] float64 -> float 32\n",
    "X_train = X_train.astype('float32')\n",
    "X_test = X_test.astype('float32')"
   ]
  },
  {
   "cell_type": "code",
   "execution_count": 8,
   "metadata": {},
   "outputs": [
    {
     "name": "stdout",
     "output_type": "stream",
     "text": [
      "X_train : 0.0, 1.0 (60000, 784), float32\n",
      "X_test  : 0.0, 1.0 (10000, 784), float32\n"
     ]
    }
   ],
   "source": [
    "## [3] 2D (28, 28) ==> 1D (28*28)\n",
    "X_train = X_train.reshape(-1, 28*28)\n",
    "X_test  = X_test.reshape(-1, 28*28)\n",
    "\n",
    "print(f'X_train : {X_train.min()}, {X_train.max()} {X_train.shape}, {X_train.dtype}')\n",
    "print(f'X_test  : {X_test.min()}, {X_test.max()} {X_test.shape}, {X_test.dtype}')"
   ]
  },
  {
   "cell_type": "code",
   "execution_count": 9,
   "metadata": {},
   "outputs": [
    {
     "name": "stdout",
     "output_type": "stream",
     "text": [
      "tf.Tensor(\n",
      "[[0. 0. 0. 0. 0. 1. 0. 0. 0. 0.]\n",
      " [1. 0. 0. 0. 0. 0. 0. 0. 0. 0.]\n",
      " [0. 0. 0. 0. 1. 0. 0. 0. 0. 0.]], shape=(3, 10), dtype=float32)\n"
     ]
    }
   ],
   "source": [
    "## 라벨 ->  One-Hot Encoding\n",
    "y_train = tf.one_hot(y_train, depth=10)\n",
    "y_test = tf.one_hot(y_test, depth=10)\n",
    "\n",
    "print(y_train[:3])"
   ]
  },
  {
   "cell_type": "markdown",
   "metadata": {},
   "source": [
    "[3] 모델 클래스 설계"
   ]
  },
  {
   "cell_type": "code",
   "execution_count": 10,
   "metadata": {},
   "outputs": [],
   "source": [
    "## ----------------------------------------------------------------------------------\n",
    "## 클래스이름 : MNISTModel\n",
    "## ----------------------------------------------------------------------------------\n",
    "## 입력층 : 입력/피쳐개수     784     출력/뉴런개수 300      활성화함수  ReLu\n",
    "## 은닉층 : 입력/이전층뉴런수 300     출력/뉴런개수 100      활성화함수  ReLu\n",
    "## 출력층 : 입력/이전층뉴런수 100     출력/라벨개수 10       활성화함수  회귀/이진/다중\n",
    "## ----------------------------------------------------------------------------------\n",
    "#class MNISTModel(tf.Module):\n",
    "class MNISTModel():\n",
    "    # 인스턴스 생성 메서드\n",
    "    def __init__(self):\n",
    "        #super().__init__()\n",
    "        # 입력층\n",
    "        self.in_w=tf.Variable(tf.random.normal([784,300]))\n",
    "        self.in_b=tf.Variable(tf.random.normal([300]))\n",
    "\n",
    "        # 은닉층\n",
    "        self.hd_w=tf.Variable(tf.random.normal([300,100]))\n",
    "        self.hd_b=tf.Variable(tf.random.normal([100]))\n",
    "\n",
    "        # 출력층\n",
    "        self.out_w=tf.Variable(tf.random.normal([100,10]))\n",
    "        self.out_b=tf.Variable(tf.random.normal([10]))\n",
    "\n",
    "    # 순방향 학습 메서드\n",
    "    def __call__(self, data):\n",
    "        # 입력층\n",
    "        wbs=tf.matmul(data, self.in_w) + self.in_b\n",
    "        output=tf.nn.relu(wbs)\n",
    "\n",
    "        # 은닉층\n",
    "        wbs=tf.matmul(output, self.hd_w) + self.hd_b\n",
    "        output=tf.nn.relu(wbs)\n",
    "\n",
    "        # 출력층 ==> Tensorflow에서 출력층의 가중합+절편 값 => 로짓(logits)\n",
    "        logits=tf.matmul(output, self.out_w) + self.out_b\n",
    "\n",
    "        return logits"
   ]
  },
  {
   "cell_type": "markdown",
   "metadata": {},
   "source": [
    "[4] 학습관련 설정 <hr>\n",
    "* 학습 횟수 즉, 에포크 개수\n",
    "* 학습 데이터량 즉, 배치 사이즈\n",
    "* 1에포크에 학습 횟수, 즉, 배치 개수\n",
    "* 최적화 즉, 가중치와 절편 업데이트 간격으로 러닝레이트"
   ]
  },
  {
   "cell_type": "code",
   "execution_count": 11,
   "metadata": {},
   "outputs": [],
   "source": [
    "#### 학습 관련 설정\n",
    "LR= 0.001               # 일반적 0.0001 ~ 0.1\n",
    "EPOCHS = 50             # 학습 데이터를 처음부터 끝까지는 몇 번 학습할지 횟수 설정\n",
    "BATCH_SIZE = 600        # 한번에 학습할 데이터 양\n",
    "DATA_NUMS = 60000       # 전체 학습용 데이터 개수\n",
    "FEATURES = 784          # 피쳐 개수"
   ]
  },
  {
   "cell_type": "code",
   "execution_count": 12,
   "metadata": {},
   "outputs": [],
   "source": [
    "#### 데이터셋 인스턴스 생성 ==> 지도학습 : 피쳐+라벨\n",
    "TRAIN_DS = Dataset.from_tensor_slices((X_train, y_train))\n",
    "\n",
    "#### 배치크기만큼 데이터 추출하는 데이터셋 인스턴스 생성\n",
    "TRAIN_DS = TRAIN_DS.shuffle(DATA_NUMS).batch(BATCH_SIZE)"
   ]
  },
  {
   "cell_type": "code",
   "execution_count": 13,
   "metadata": {},
   "outputs": [
    {
     "name": "stdout",
     "output_type": "stream",
     "text": [
      "(600, 784) (600, 10)\n",
      "tf.Tensor(\n",
      "[0.         0.         0.         0.         0.         0.\n",
      " 0.         0.         0.         0.         0.         0.\n",
      " 0.         0.         0.         0.         0.         0.\n",
      " 0.         0.         0.         0.         0.         0.\n",
      " 0.         0.         0.         0.         0.         0.\n",
      " 0.         0.         0.         0.         0.         0.\n",
      " 0.         0.         0.         0.         0.         0.\n",
      " 0.         0.         0.         0.         0.         0.\n",
      " 0.         0.         0.         0.         0.         0.\n",
      " 0.         0.         0.         0.         0.         0.\n",
      " 0.         0.         0.         0.         0.         0.\n",
      " 0.         0.         0.         0.         0.         0.\n",
      " 0.         0.         0.         0.         0.         0.\n",
      " 0.         0.         0.         0.         0.         0.\n",
      " 0.         0.         0.         0.         0.         0.\n",
      " 0.         0.         0.         0.         0.         0.\n",
      " 0.         0.         0.         0.         0.         0.\n",
      " 0.         0.         0.         0.         0.         0.\n",
      " 0.         0.         0.         0.         0.         0.\n",
      " 0.         0.         0.         0.         0.         0.\n",
      " 0.         0.         0.00784314 0.40784314 0.9764706  0.99607843\n",
      " 1.         0.49803922 0.         0.         0.         0.\n",
      " 0.         0.         0.         0.         0.         0.\n",
      " 0.         0.         0.         0.         0.         0.\n",
      " 0.         0.         0.         0.         0.         0.07843138\n",
      " 0.7294118  0.99215686 0.99215686 0.99215686 0.9098039  0.08627451\n",
      " 0.         0.         0.         0.         0.         0.\n",
      " 0.         0.         0.         0.         0.         0.\n",
      " 0.         0.         0.         0.         0.         0.\n",
      " 0.         0.         0.01568628 0.6862745  0.99215686 0.99215686\n",
      " 0.93333334 0.38039216 0.         0.         0.         0.\n",
      " 0.         0.         0.         0.         0.         0.\n",
      " 0.         0.         0.         0.         0.         0.\n",
      " 0.         0.         0.         0.         0.         0.\n",
      " 0.20392157 0.99215686 0.99215686 0.8352941  0.10588235 0.\n",
      " 0.         0.01176471 0.26666668 0.4509804  0.5529412  0.15686275\n",
      " 0.         0.         0.         0.         0.         0.\n",
      " 0.         0.         0.         0.         0.         0.\n",
      " 0.         0.         0.         0.         0.63529414 0.99215686\n",
      " 0.99215686 0.15686275 0.         0.         0.         0.38039216\n",
      " 0.99215686 0.99215686 0.9647059  0.46666667 0.         0.\n",
      " 0.         0.         0.         0.         0.         0.\n",
      " 0.         0.         0.         0.         0.         0.\n",
      " 0.         0.         0.5294118  0.99215686 0.99215686 0.09411765\n",
      " 0.         0.         0.25882354 0.94509804 0.99215686 0.8627451\n",
      " 0.29803923 0.         0.         0.         0.         0.\n",
      " 0.         0.         0.         0.         0.         0.\n",
      " 0.         0.         0.         0.         0.         0.\n",
      " 0.4117647  0.99215686 0.99215686 0.09411765 0.         0.\n",
      " 0.9529412  0.99215686 0.9372549  0.14117648 0.         0.\n",
      " 0.         0.         0.         0.         0.         0.\n",
      " 0.         0.         0.         0.         0.         0.\n",
      " 0.         0.         0.         0.         0.07058824 0.8980392\n",
      " 0.99215686 0.63529414 0.01960784 0.76862746 0.99607843 0.99215686\n",
      " 0.7058824  0.         0.         0.         0.         0.\n",
      " 0.         0.         0.         0.         0.         0.\n",
      " 0.         0.         0.         0.         0.         0.\n",
      " 0.         0.         0.         0.42745098 0.81960785 0.99215686\n",
      " 0.83137256 0.9882353  0.99607843 0.9529412  0.11764706 0.\n",
      " 0.         0.         0.         0.         0.         0.\n",
      " 0.         0.         0.         0.         0.         0.\n",
      " 0.         0.         0.         0.         0.         0.\n",
      " 0.         0.         0.09019608 0.92941177 0.99215686 0.99215686\n",
      " 0.99607843 0.8235294  0.         0.         0.         0.\n",
      " 0.         0.         0.         0.         0.         0.\n",
      " 0.         0.         0.         0.         0.         0.\n",
      " 0.         0.         0.         0.         0.         0.\n",
      " 0.         0.25882354 0.99607843 0.99607843 1.         0.99607843\n",
      " 0.827451   0.10196079 0.         0.         0.         0.\n",
      " 0.         0.         0.         0.         0.         0.\n",
      " 0.         0.         0.         0.         0.         0.\n",
      " 0.         0.         0.         0.         0.         0.25882354\n",
      " 0.99215686 0.99215686 0.972549   0.9529412  0.99215686 0.9529412\n",
      " 0.3882353  0.         0.         0.         0.         0.\n",
      " 0.         0.         0.         0.         0.         0.\n",
      " 0.         0.         0.         0.         0.         0.\n",
      " 0.         0.         0.         0.25882354 0.99215686 0.99215686\n",
      " 0.6392157  0.14901961 0.99215686 0.99215686 0.8980392  0.06666667\n",
      " 0.         0.         0.         0.         0.         0.\n",
      " 0.         0.         0.         0.         0.         0.\n",
      " 0.         0.         0.         0.         0.         0.\n",
      " 0.         0.3019608  0.99215686 0.99215686 0.43529412 0.01568628\n",
      " 0.79607844 0.99215686 0.99215686 0.40784314 0.         0.\n",
      " 0.         0.         0.         0.         0.         0.\n",
      " 0.         0.         0.         0.         0.         0.\n",
      " 0.         0.         0.         0.         0.         0.8352941\n",
      " 0.99215686 0.99215686 0.6392157  0.         0.7372549  0.99215686\n",
      " 0.99215686 0.6862745  0.         0.         0.         0.\n",
      " 0.         0.         0.         0.         0.         0.\n",
      " 0.         0.         0.         0.         0.         0.\n",
      " 0.         0.         0.         0.41568628 0.98039216 0.99215686\n",
      " 0.7019608  0.02352941 0.81960785 0.99215686 0.99215686 0.48235294\n",
      " 0.         0.         0.         0.         0.         0.\n",
      " 0.         0.         0.         0.         0.         0.\n",
      " 0.         0.         0.         0.         0.         0.\n",
      " 0.         0.         0.92941177 0.99215686 0.9607843  0.03921569\n",
      " 0.8784314  0.99215686 0.99215686 0.2        0.         0.\n",
      " 0.         0.         0.         0.         0.         0.\n",
      " 0.         0.         0.         0.         0.         0.\n",
      " 0.         0.         0.         0.         0.         0.\n",
      " 0.84705883 0.99215686 0.99215686 0.69803923 0.99215686 0.99215686\n",
      " 0.84705883 0.01568628 0.         0.         0.         0.\n",
      " 0.         0.         0.         0.         0.         0.\n",
      " 0.         0.         0.         0.         0.         0.\n",
      " 0.         0.         0.         0.         0.13333334 0.7882353\n",
      " 0.99607843 0.99215686 0.99215686 0.9529412  0.4862745  0.\n",
      " 0.         0.         0.         0.         0.         0.\n",
      " 0.         0.         0.         0.         0.         0.\n",
      " 0.         0.         0.         0.         0.         0.\n",
      " 0.         0.         0.         0.01176471 0.5803922  0.99215686\n",
      " 0.99215686 0.54901963 0.         0.         0.         0.\n",
      " 0.         0.         0.         0.         0.         0.\n",
      " 0.         0.         0.         0.         0.         0.\n",
      " 0.         0.         0.         0.         0.         0.\n",
      " 0.         0.         0.         0.         0.         0.\n",
      " 0.         0.         0.         0.         0.         0.\n",
      " 0.         0.         0.         0.         0.         0.\n",
      " 0.         0.         0.         0.         0.         0.\n",
      " 0.         0.         0.         0.         0.         0.\n",
      " 0.         0.         0.         0.         0.         0.\n",
      " 0.         0.         0.         0.         0.         0.\n",
      " 0.         0.         0.         0.         0.         0.\n",
      " 0.         0.         0.         0.         0.         0.\n",
      " 0.         0.         0.         0.         0.         0.\n",
      " 0.         0.         0.         0.         0.         0.\n",
      " 0.         0.         0.         0.         0.         0.\n",
      " 0.         0.         0.         0.         0.         0.\n",
      " 0.         0.         0.         0.         0.         0.\n",
      " 0.         0.         0.         0.         0.         0.\n",
      " 0.         0.         0.         0.         0.         0.\n",
      " 0.         0.         0.         0.        ], shape=(784,), dtype=float32) tf.Tensor([0. 0. 0. 0. 0. 0. 0. 0. 1. 0.], shape=(10,), dtype=float32)\n"
     ]
    }
   ],
   "source": [
    "for data, label in TRAIN_DS:\n",
    "    print(data.shape, label.shape)\n",
    "    print(data[0], label[0])\n",
    "    break"
   ]
  },
  {
   "cell_type": "markdown",
   "metadata": {},
   "source": [
    "[5] 학습 관련 함수들 <hr>\n",
    "* 손실함수\n",
    "* 성능평가 함수\n",
    "* 학습함수"
   ]
  },
  {
   "cell_type": "code",
   "execution_count": 14,
   "metadata": {},
   "outputs": [],
   "source": [
    "#### [1] 손실함수\n",
    "@tf.function\n",
    "def mcfLossFunc(y, logits):\n",
    "    return tf.reduce_mean( tf.nn.softmax_cross_entropy_with_logits(labels=y, logits=logits))"
   ]
  },
  {
   "cell_type": "code",
   "execution_count": 16,
   "metadata": {},
   "outputs": [],
   "source": [
    "#### [2] 최적화 함수  => 모델의 층별로 존재하는 W, b를 업데이트 시켜주는 인스턴스\n",
    "## - 최적화인스턴스 생성\n",
    "## - 학습과정에서 새롭게 계산된 층별 W, b 값을 모델에 적용\n",
    "optimizer = tf.keras.optimizers.Adam(LR)"
   ]
  },
  {
   "cell_type": "code",
   "execution_count": 17,
   "metadata": {},
   "outputs": [],
   "source": [
    "#### [3] 학습관련 함수 => 모델 학습 + 손실 계산 + W,b 업데이트\n",
    "@tf.function\n",
    "def train(model, x, y):\n",
    "    # 전방향 학습 기록\n",
    "    with tf.GradientTape() as tape:\n",
    "        # 학습 진행\n",
    "        y_pred = model(x)\n",
    "        # 손실 계산\n",
    "        loss = mcfLossFunc(y, y_pred)\n",
    "\n",
    "    # 손실에 대한 새로운 W, b 계산\n",
    "    new_gradients=tape.gradient(loss, vars(model).values())\n",
    "\n",
    "    # 새로운 W,b 업데이트 단, 새로운 가중치 값과 변수 쌍으로 묶어서 전달\n",
    "    optimizer.apply_gradients( zip( new_gradients, vars(model).values() ))"
   ]
  },
  {
   "cell_type": "code",
   "execution_count": 18,
   "metadata": {},
   "outputs": [
    {
     "name": "stdout",
     "output_type": "stream",
     "text": [
      "dict_keys(['in_w', 'in_b', 'hd_w', 'hd_b', 'out_w', 'out_b'])\n"
     ]
    }
   ],
   "source": [
    "#### [ 테스트 ]\n",
    "m=MNISTModel()\n",
    "\n",
    "# 인스턴스의 지역변수 키와 값 읽기 Dict 형태\n",
    "m_vars=vars(m)\n",
    "\n",
    "print(m_vars.keys())"
   ]
  },
  {
   "cell_type": "code",
   "execution_count": 19,
   "metadata": {},
   "outputs": [],
   "source": [
    "#### [4] 정확도 계산 함수 ==> accuracy\n",
    "@tf.function\n",
    "def accuracy(y_pred, y):\n",
    "\n",
    "    correct = tf.equal( tf.argmax(y_pred, axis=1),  tf.argmax(y, axis=1))\n",
    "\n",
    "    return tf.reduce_mean( tf.cast(correct, tf.float32) )"
   ]
  },
  {
   "cell_type": "markdown",
   "metadata": {},
   "source": [
    "[6] 학습 진행"
   ]
  },
  {
   "cell_type": "code",
   "execution_count": 20,
   "metadata": {},
   "outputs": [],
   "source": [
    "### 모델 인스턴스\n",
    "MyModel=MNISTModel()"
   ]
  },
  {
   "cell_type": "code",
   "execution_count": 21,
   "metadata": {},
   "outputs": [
    {
     "name": "stdout",
     "output_type": "stream",
     "text": [
      "[에포크 - 0/50] 평균 Loss : 291.2976379394531, 정확도 : 0.6847000122070312\n",
      "[에포크 - 1/50] 평균 Loss : 73.8895492553711, 정확도 : 0.8026000261306763\n",
      "[에포크 - 2/50] 평균 Loss : 47.171234130859375, 정확도 : 0.8438000082969666\n",
      "[에포크 - 3/50] 평균 Loss : 35.545230865478516, 정확도 : 0.8654000163078308\n",
      "[에포크 - 4/50] 평균 Loss : 28.67670249938965, 정확도 : 0.8776999711990356\n",
      "[에포크 - 5/50] 평균 Loss : 23.988405227661133, 정확도 : 0.8865000009536743\n",
      "[에포크 - 6/50] 평균 Loss : 20.582014083862305, 정확도 : 0.8946999907493591\n",
      "[에포크 - 7/50] 평균 Loss : 18.024188995361328, 정확도 : 0.899399995803833\n",
      "[에포크 - 8/50] 평균 Loss : 15.9015531539917, 정확도 : 0.902899980545044\n",
      "[에포크 - 9/50] 평균 Loss : 14.155799865722656, 정확도 : 0.9082000255584717\n",
      "[에포크 - 10/50] 평균 Loss : 12.592058181762695, 정확도 : 0.9125999808311462\n",
      "[에포크 - 11/50] 평균 Loss : 11.276815414428711, 정확도 : 0.9142000079154968\n",
      "[에포크 - 12/50] 평균 Loss : 10.167778015136719, 정확도 : 0.9154000282287598\n",
      "[에포크 - 13/50] 평균 Loss : 9.115449905395508, 정확도 : 0.9182000160217285\n",
      "[에포크 - 14/50] 평균 Loss : 8.259273529052734, 정확도 : 0.9204000234603882\n",
      "[에포크 - 15/50] 평균 Loss : 7.409143447875977, 정확도 : 0.9225999712944031\n",
      "[에포크 - 16/50] 평균 Loss : 6.734584808349609, 정확도 : 0.9236999750137329\n",
      "[에포크 - 17/50] 평균 Loss : 6.091195106506348, 정확도 : 0.9247000217437744\n",
      "[에포크 - 18/50] 평균 Loss : 5.5414557456970215, 정확도 : 0.9254999756813049\n",
      "[에포크 - 19/50] 평균 Loss : 5.036093235015869, 정확도 : 0.9273999929428101\n",
      "[에포크 - 20/50] 평균 Loss : 4.558150291442871, 정확도 : 0.9283000230789185\n",
      "[에포크 - 21/50] 평균 Loss : 4.1387410163879395, 정확도 : 0.9289000034332275\n",
      "[에포크 - 22/50] 평균 Loss : 3.7398226261138916, 정확도 : 0.9297000169754028\n",
      "[에포크 - 23/50] 평균 Loss : 3.416013717651367, 정확도 : 0.9309999942779541\n",
      "[에포크 - 24/50] 평균 Loss : 3.0622100830078125, 정확도 : 0.9318000078201294\n",
      "[에포크 - 25/50] 평균 Loss : 2.789161443710327, 정확도 : 0.932699978351593\n",
      "[에포크 - 26/50] 평균 Loss : 2.5291755199432373, 정확도 : 0.9333000183105469\n",
      "[에포크 - 27/50] 평균 Loss : 2.2786576747894287, 정확도 : 0.9333000183105469\n",
      "[에포크 - 28/50] 평균 Loss : 2.022263765335083, 정확도 : 0.9327999949455261\n",
      "[에포크 - 29/50] 평균 Loss : 1.8158149719238281, 정확도 : 0.9314000010490417\n",
      "[에포크 - 30/50] 평균 Loss : 1.6229820251464844, 정확도 : 0.9351999759674072\n",
      "[에포크 - 31/50] 평균 Loss : 1.4597101211547852, 정확도 : 0.933899998664856\n",
      "[에포크 - 32/50] 평균 Loss : 1.298028588294983, 정확도 : 0.9358000159263611\n",
      "[에포크 - 33/50] 평균 Loss : 1.167799949645996, 정확도 : 0.9366000294685364\n",
      "[에포크 - 34/50] 평균 Loss : 1.0329716205596924, 정확도 : 0.9363999962806702\n",
      "[에포크 - 35/50] 평균 Loss : 0.9111301302909851, 정확도 : 0.9369000196456909\n",
      "[에포크 - 36/50] 평균 Loss : 0.8142838478088379, 정확도 : 0.9387000203132629\n",
      "[에포크 - 37/50] 평균 Loss : 0.7222772240638733, 정확도 : 0.9373000264167786\n",
      "[에포크 - 38/50] 평균 Loss : 0.6302579641342163, 정확도 : 0.9365000128746033\n",
      "[에포크 - 39/50] 평균 Loss : 0.5592281818389893, 정확도 : 0.9370999932289124\n",
      "[에포크 - 40/50] 평균 Loss : 0.4740222692489624, 정확도 : 0.935699999332428\n",
      "[에포크 - 41/50] 평균 Loss : 0.41752758622169495, 정확도 : 0.9359999895095825\n",
      "[에포크 - 42/50] 평균 Loss : 0.353372186422348, 정확도 : 0.9383999705314636\n",
      "[에포크 - 43/50] 평균 Loss : 0.3009057939052582, 정확도 : 0.9376000165939331\n",
      "[에포크 - 44/50] 평균 Loss : 0.2550073564052582, 정확도 : 0.9366999864578247\n",
      "[에포크 - 45/50] 평균 Loss : 0.2201017439365387, 정확도 : 0.9380000233650208\n",
      "[에포크 - 46/50] 평균 Loss : 0.19070610404014587, 정확도 : 0.9381999969482422\n",
      "[에포크 - 47/50] 평균 Loss : 0.15521015226840973, 정확도 : 0.9376999735832214\n",
      "[에포크 - 48/50] 평균 Loss : 0.1349836140871048, 정확도 : 0.9386000037193298\n",
      "[에포크 - 49/50] 평균 Loss : 0.10427390038967133, 정확도 : 0.9388999938964844\n"
     ]
    }
   ],
   "source": [
    "LOSS_HISTORY, ACC_HISTORY=[], []\n",
    "\n",
    "for epoch in range(EPOCHS):\n",
    "\n",
    "    total_loss =0\n",
    "\n",
    "    # 배치크기만큼 학습\n",
    "    for batch_x, batch_y in TRAIN_DS:\n",
    "\n",
    "        # 학습 및 가중치, 절편 업데이트\n",
    "        train(MyModel, batch_x, batch_y)\n",
    "\n",
    "        # 가중치, 절편 업데이트된 값으로 Loss 계산\n",
    "        current_loss = mcfLossFunc(batch_y, MyModel(batch_x))\n",
    "\n",
    "        # 1에포크에 대한 Loss 계산 위해서 누적\n",
    "        total_loss += current_loss\n",
    "\n",
    "    # 1에포크에 대한 평균 Loss\n",
    "    one_loss= total_loss/(DATA_NUMS//BATCH_SIZE)\n",
    "    LOSS_HISTORY.append(one_loss)\n",
    "\n",
    "    # 1에포크에 대한 정확도\n",
    "    one_acc=accuracy(MyModel(X_test), y_test)\n",
    "\n",
    "    print(f'[에포크 - {epoch}/{EPOCHS}] 평균 Loss : {one_loss}, 정확도 : {one_acc}' )"
   ]
  },
  {
   "cell_type": "markdown",
   "metadata": {},
   "source": [
    "[7] 테스트 이미지 <hr>\n",
    "- 이미지 처리 관련 패키지 설치\n",
    "    * %pip install opencv-python\n",
    "    * %pip install pillow  ===> [확인] from PIL import Image"
   ]
  },
  {
   "cell_type": "code",
   "execution_count": 1,
   "metadata": {},
   "outputs": [
    {
     "name": "stdout",
     "output_type": "stream",
     "text": [
      "Requirement already satisfied: pillow in f:\\anaconda\\envs\\tensor_39\\lib\\site-packages (10.4.0)\n",
      "Note: you may need to restart the kernel to use updated packages.\n"
     ]
    }
   ],
   "source": [
    "#%pip install pillow"
   ]
  },
  {
   "cell_type": "code",
   "execution_count": 22,
   "metadata": {},
   "outputs": [],
   "source": [
    "from PIL import Image"
   ]
  },
  {
   "cell_type": "code",
   "execution_count": 23,
   "metadata": {},
   "outputs": [],
   "source": [
    "img=Image.open('my_two.jpg').convert('L')\n",
    "img=img.resize((28, 28))"
   ]
  },
  {
   "cell_type": "code",
   "execution_count": 24,
   "metadata": {},
   "outputs": [
    {
     "data": {
      "text/plain": [
       "(numpy.ndarray, (28, 28))"
      ]
     },
     "execution_count": 24,
     "metadata": {},
     "output_type": "execute_result"
    }
   ],
   "source": [
    "img_array=np.array(img)\n",
    "type(img_array), img_array.shape"
   ]
  },
  {
   "cell_type": "code",
   "execution_count": 25,
   "metadata": {},
   "outputs": [
    {
     "data": {
      "text/plain": [
       "array([[255, 255, 255, 255, 255, 255, 255, 255, 255, 255, 255, 255, 255,\n",
       "        255, 255, 255, 255, 255, 255, 255, 255, 255, 255, 255, 255, 255,\n",
       "        255, 255],\n",
       "       [255, 255, 255, 255, 255, 255, 255, 255, 255, 255, 255, 255, 255,\n",
       "        255, 255, 255, 255, 255, 255, 255, 255, 255, 255, 255, 255, 255,\n",
       "        255, 255],\n",
       "       [255, 255, 255, 255, 255, 255, 255, 255, 255, 255, 255, 255, 255,\n",
       "        255, 255, 255, 255, 255, 255, 255, 255, 255, 255, 255, 255, 255,\n",
       "        255, 255],\n",
       "       [255, 255, 255, 255, 255, 255, 255, 255, 255, 255, 255, 255, 255,\n",
       "        255, 255, 255, 255, 255, 255, 255, 255, 255, 255, 255, 255, 255,\n",
       "        255, 255],\n",
       "       [255, 255, 255, 255, 255, 255, 255, 255, 255, 212, 143, 111, 148,\n",
       "        237, 255, 255, 255, 255, 255, 255, 255, 255, 255, 255, 255, 255,\n",
       "        255, 255],\n",
       "       [255, 255, 255, 255, 255, 255, 255, 244, 108,  83, 147, 186, 134,\n",
       "         64, 180, 255, 255, 255, 255, 255, 255, 255, 255, 255, 255, 255,\n",
       "        255, 255],\n",
       "       [255, 255, 255, 255, 255, 255, 255, 122, 127, 253, 255, 255, 255,\n",
       "        218,  65, 209, 255, 255, 255, 255, 255, 255, 255, 255, 255, 255,\n",
       "        255, 255],\n",
       "       [255, 255, 255, 255, 255, 255, 255, 101, 206, 255, 255, 255, 255,\n",
       "        255, 192,  85, 252, 255, 255, 255, 255, 255, 255, 255, 255, 255,\n",
       "        255, 255],\n",
       "       [255, 255, 255, 255, 255, 255, 255, 240, 246, 255, 255, 255, 255,\n",
       "        255, 255,  84, 219, 255, 255, 255, 255, 255, 255, 255, 255, 255,\n",
       "        255, 255],\n",
       "       [255, 255, 255, 255, 255, 255, 255, 255, 255, 255, 255, 255, 255,\n",
       "        255, 255, 133, 161, 255, 255, 255, 255, 255, 255, 255, 255, 255,\n",
       "        255, 255],\n",
       "       [255, 255, 255, 255, 255, 255, 255, 255, 255, 255, 255, 255, 255,\n",
       "        255, 255, 172, 128, 255, 255, 255, 255, 255, 255, 255, 255, 255,\n",
       "        255, 255],\n",
       "       [255, 255, 255, 255, 255, 255, 255, 255, 255, 255, 255, 255, 255,\n",
       "        255, 255, 166, 130, 255, 255, 255, 255, 255, 255, 255, 255, 255,\n",
       "        255, 255],\n",
       "       [255, 255, 255, 255, 255, 255, 255, 255, 255, 255, 255, 255, 255,\n",
       "        255, 255, 106, 181, 255, 255, 255, 255, 255, 255, 255, 255, 255,\n",
       "        255, 255],\n",
       "       [255, 255, 255, 255, 255, 255, 255, 255, 255, 255, 255, 255, 255,\n",
       "        255, 217,  72, 241, 255, 255, 255, 255, 255, 255, 255, 255, 255,\n",
       "        255, 255],\n",
       "       [255, 255, 255, 255, 255, 255, 255, 255, 255, 255, 255, 255, 255,\n",
       "        244,  80, 180, 255, 255, 255, 255, 255, 255, 255, 255, 255, 255,\n",
       "        255, 255],\n",
       "       [255, 255, 255, 255, 255, 255, 255, 255, 255, 255, 255, 255, 254,\n",
       "         99, 140, 255, 255, 255, 255, 255, 255, 255, 255, 255, 255, 255,\n",
       "        255, 255],\n",
       "       [255, 255, 255, 255, 255, 255, 255, 255, 255, 255, 255, 246, 102,\n",
       "        112, 255, 255, 255, 255, 255, 255, 255, 255, 255, 255, 255, 255,\n",
       "        255, 255],\n",
       "       [255, 255, 255, 255, 255, 255, 255, 255, 255, 255, 227,  78, 137,\n",
       "        255, 255, 255, 255, 255, 255, 255, 255, 255, 255, 255, 255, 255,\n",
       "        255, 255],\n",
       "       [255, 255, 255, 255, 255, 255, 255, 255, 254, 164,  65, 170, 255,\n",
       "        255, 255, 255, 255, 255, 255, 255, 255, 255, 255, 255, 255, 255,\n",
       "        255, 255],\n",
       "       [255, 255, 255, 255, 255, 255, 233, 171,  93, 105, 232, 255, 255,\n",
       "        255, 255, 255, 255, 255, 255, 255, 255, 255, 255, 255, 255, 255,\n",
       "        255, 255],\n",
       "       [255, 255, 255, 255, 255, 186,  41,   5,  67, 125, 125, 121, 121,\n",
       "        121, 121, 121, 121, 121, 121, 121,  99, 108, 252, 255, 255, 255,\n",
       "        255, 255],\n",
       "       [255, 255, 255, 255, 255, 242, 223, 215, 189, 181, 181, 181, 181,\n",
       "        181, 181, 181, 181, 181, 181, 181, 189, 223, 255, 255, 255, 255,\n",
       "        255, 255],\n",
       "       [255, 255, 255, 255, 255, 255, 255, 255, 255, 255, 255, 255, 255,\n",
       "        255, 255, 255, 255, 255, 255, 255, 255, 255, 255, 255, 255, 255,\n",
       "        255, 255],\n",
       "       [255, 255, 255, 255, 255, 255, 255, 255, 255, 255, 255, 255, 255,\n",
       "        255, 255, 255, 255, 255, 255, 255, 255, 255, 255, 255, 255, 255,\n",
       "        255, 255],\n",
       "       [255, 255, 255, 255, 255, 255, 255, 255, 255, 255, 255, 255, 255,\n",
       "        255, 255, 255, 255, 255, 255, 255, 255, 255, 255, 255, 255, 255,\n",
       "        255, 255],\n",
       "       [255, 255, 255, 255, 255, 255, 255, 255, 255, 255, 255, 255, 255,\n",
       "        255, 255, 255, 255, 255, 255, 255, 255, 255, 255, 255, 255, 255,\n",
       "        255, 255],\n",
       "       [255, 255, 255, 255, 255, 255, 255, 255, 255, 255, 255, 255, 255,\n",
       "        255, 255, 255, 255, 255, 255, 255, 255, 255, 255, 255, 255, 255,\n",
       "        255, 255],\n",
       "       [255, 255, 255, 255, 255, 255, 255, 255, 255, 255, 255, 255, 255,\n",
       "        255, 255, 255, 255, 255, 255, 255, 255, 255, 255, 255, 255, 255,\n",
       "        255, 255]], dtype=uint8)"
      ]
     },
     "execution_count": 25,
     "metadata": {},
     "output_type": "execute_result"
    }
   ],
   "source": [
    "img_array"
   ]
  }
 ],
 "metadata": {
  "kernelspec": {
   "display_name": "TENSOR_39",
   "language": "python",
   "name": "python3"
  },
  "language_info": {
   "codemirror_mode": {
    "name": "ipython",
    "version": 3
   },
   "file_extension": ".py",
   "mimetype": "text/x-python",
   "name": "python",
   "nbconvert_exporter": "python",
   "pygments_lexer": "ipython3",
   "version": "3.9.18"
  }
 },
 "nbformat": 4,
 "nbformat_minor": 2
}
