{
 "cells": [
  {
   "cell_type": "markdown",
   "metadata": {},
   "source": [
    "### 클래스 상속(Inheritance)\n",
    "- 목적 : 기존 클래스 재사용 + 기존 클래스 확장"
   ]
  },
  {
   "cell_type": "code",
   "execution_count": 8,
   "metadata": {},
   "outputs": [],
   "source": [
    "# 표현 데이터 : 사람\n",
    "# 클래스이름 : Person\n",
    "# 클래스 속성 : name, gender, age\n",
    "# 클래스 기능 : sleep(), eat()\n",
    "\n",
    "class Person:\n",
    "    \n",
    "    #생성자 메소드 : 힙 영역에 인스턴스/객체 생성\n",
    "    def __init__(self, name, age, gender):\n",
    "        self.name = name\n",
    "        self.age = age\n",
    "        self.gender = gender\n",
    "\n",
    "    #인스턴스 메서드 -> 인스턴스가 가지는 기능/역할\n",
    "    def sleep(self, where):\n",
    "        print(f'{self.name}는 {where}에서 잔다.')\n",
    "\n",
    "    def eat(self, food):\n",
    "        print(f'{self.name}는 {food}을/를 먹는다')"
   ]
  },
  {
   "cell_type": "code",
   "execution_count": 11,
   "metadata": {},
   "outputs": [],
   "source": [
    "# 표현 데이터 : 소방관\n",
    "# 클래스 이름 : Fireman <- 자식 클래스, 서브 클래스\n",
    "# 클래스 속성 : name, gender, age, grade\n",
    "# 클래스 기능 : sleep(), eat(), turn_off()\n",
    "# 부모 클래스 : Person <- 슈퍼클래스\n",
    "\n",
    "class Fireman(Person):\n",
    "\n",
    "    def __init__(self, name, age, gender, grade):\n",
    "        #부모 인스턴스 생성\n",
    "        super().__init__(name, age, gender)\n",
    "        self.grade = grade\n",
    "\n",
    "    def turn_off(self, where):\n",
    "        print(f'{where} 불을 끄다')\n",
    "\n",
    "    #오버라이딩 : 상속 받은 메소드 중 구현부 수정/재정의\n",
    "    def sleep(self, where):\n",
    "        print(f'{where}에서 숙면을 취한다')"
   ]
  },
  {
   "cell_type": "markdown",
   "metadata": {},
   "source": [
    "- 인스턴스/객체 생성"
   ]
  },
  {
   "cell_type": "code",
   "execution_count": 12,
   "metadata": {},
   "outputs": [],
   "source": [
    "f1 = Fireman('홍길동', 28, 'M', '신입')"
   ]
  },
  {
   "cell_type": "markdown",
   "metadata": {},
   "source": [
    "- 인스턴스/객체의 속성 사용"
   ]
  },
  {
   "cell_type": "code",
   "execution_count": 13,
   "metadata": {},
   "outputs": [
    {
     "name": "stdout",
     "output_type": "stream",
     "text": [
      "집에서 숙면을 취한다\n"
     ]
    }
   ],
   "source": [
    "f1.sleep(\"집\")"
   ]
  },
  {
   "cell_type": "code",
   "execution_count": 14,
   "metadata": {},
   "outputs": [
    {
     "name": "stdout",
     "output_type": "stream",
     "text": [
      "내 마음 불을 끄다\n"
     ]
    }
   ],
   "source": [
    "f1.turn_off(\"내 마음\")"
   ]
  }
 ],
 "metadata": {
  "kernelspec": {
   "display_name": "TENSOR_39",
   "language": "python",
   "name": "python3"
  },
  "language_info": {
   "codemirror_mode": {
    "name": "ipython",
    "version": 3
   },
   "file_extension": ".py",
   "mimetype": "text/x-python",
   "name": "python",
   "nbconvert_exporter": "python",
   "pygments_lexer": "ipython3",
   "version": "3.9.18"
  }
 },
 "nbformat": 4,
 "nbformat_minor": 2
}
