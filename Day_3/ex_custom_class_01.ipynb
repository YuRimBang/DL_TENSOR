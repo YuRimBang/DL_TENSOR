{
 "cells": [
  {
   "cell_type": "markdown",
   "metadata": {},
   "source": [
    "### 사용자 정의 클래스 이해\n",
    "- 데이터셋기반 모델 생성 시 활용\n",
    "- 클래스 구조 이해\n",
    "- 사용자 정의 클래스 생성 실습"
   ]
  },
  {
   "cell_type": "markdown",
   "metadata": {},
   "source": [
    "* * *\n",
    "- 클래스 구성 요소 : 속성/필드/attribute + 기능/함수/메서드method\n",
    "* * *\n"
   ]
  },
  {
   "cell_type": "markdown",
   "metadata": {},
   "source": [
    "- 객체/인스턴스 생성 -> 문법 : 클래스 이름()\n",
    "    * 주의 !! self 키워드는 클래스 내부에서만 사용된다"
   ]
  },
  {
   "cell_type": "code",
   "execution_count": 56,
   "metadata": {},
   "outputs": [],
   "source": [
    "# 데이터 : 사람 데이터 표현/저장\n",
    "# 클래스 이름 : Person\n",
    "# 클래스 속성 : 성별, 나이, 이름\n",
    "# 클래스 행동 : 먹기, 자기\n",
    "\n",
    "class Person:\n",
    "\n",
    "    LOC = \"Korea\"\n",
    "\n",
    "    def __init__(self, name, age, gender):\n",
    "        self.__name = name\n",
    "        self.age = age\n",
    "        self.__gender = gender\n",
    "\n",
    "    #연산자 오버로딩\n",
    "    def __add__(self, other):\n",
    "        print(\"__add__()\")\n",
    "        print(self.age+other.age)\n",
    "    \n",
    "    def __mul__(self, other):\n",
    "        print(self.age*other)\n",
    "\n",
    "    #인스턴스 메서드 -> 인스턴스가 가지는 기능/역할\n",
    "    def sleep(self, where):\n",
    "        print(f'{self.__name}는 {where}에서 잔다.')\n",
    "\n",
    "    def eat(self, food):\n",
    "        print(f'{self.__name}는 {food}을/를 먹는다')\n",
    "\n",
    "\n",
    "kim = Person(\"김뫄뫄\", 21, \"여\")\n",
    "bang = Person(\"방뫄뫄\", 23, \"여\")\n",
    "lee = Person(\"이뫄뫄\", 25, \"남\")\n",
    "park = Person(\"박뫄뫄\", 19, \"여\")\n",
    "moo = Person(\"모뫄뫄\", 31, \"남\")"
   ]
  },
  {
   "cell_type": "code",
   "execution_count": 57,
   "metadata": {},
   "outputs": [
    {
     "name": "stdout",
     "output_type": "stream",
     "text": [
      "김뫄뫄는 닭가슴살을/를 먹는다\n"
     ]
    }
   ],
   "source": [
    "kim.eat(\"닭가슴살\")"
   ]
  },
  {
   "cell_type": "markdown",
   "metadata": {},
   "source": [
    "- 객체/인스턴스 속성 및 메서드 사용\n",
    "    * 속성 문법 : 인스턴스변수명.속성명\n",
    "    * 메서드 문법 : 인스턴스변수명.메서드명()"
   ]
  },
  {
   "cell_type": "code",
   "execution_count": 58,
   "metadata": {},
   "outputs": [
    {
     "name": "stdout",
     "output_type": "stream",
     "text": [
      "21\n",
      "23\n"
     ]
    }
   ],
   "source": [
    "#속성 변경 : 인스턴스변수명.속성명 = 변경값\n",
    "print(kim.age)\n",
    "kim.age = 23\n",
    "print(kim.age)"
   ]
  },
  {
   "cell_type": "code",
   "execution_count": 59,
   "metadata": {},
   "outputs": [
    {
     "name": "stdout",
     "output_type": "stream",
     "text": [
      "김뫄뫄는 학교에서 잔다.\n"
     ]
    }
   ],
   "source": [
    "#메서드 사용\n",
    "kim.sleep(\"학교\")"
   ]
  },
  {
   "cell_type": "markdown",
   "metadata": {},
   "source": [
    "- 클래스와 인스턴스의 속성과 메서드 확인 --> __dict__"
   ]
  },
  {
   "cell_type": "code",
   "execution_count": 60,
   "metadata": {},
   "outputs": [
    {
     "data": {
      "text/plain": [
       "mappingproxy({'__module__': '__main__',\n",
       "              'LOC': 'Korea',\n",
       "              '__init__': <function __main__.Person.__init__(self, name, age, gender)>,\n",
       "              '__add__': <function __main__.Person.__add__(self, other)>,\n",
       "              '__mul__': <function __main__.Person.__mul__(self, other)>,\n",
       "              'sleep': <function __main__.Person.sleep(self, where)>,\n",
       "              'eat': <function __main__.Person.eat(self, food)>,\n",
       "              '__dict__': <attribute '__dict__' of 'Person' objects>,\n",
       "              '__weakref__': <attribute '__weakref__' of 'Person' objects>,\n",
       "              '__doc__': None})"
      ]
     },
     "execution_count": 60,
     "metadata": {},
     "output_type": "execute_result"
    }
   ],
   "source": [
    "#클래스이름.__dict__\n",
    "Person.__dict__"
   ]
  },
  {
   "cell_type": "code",
   "execution_count": 61,
   "metadata": {},
   "outputs": [
    {
     "name": "stdout",
     "output_type": "stream",
     "text": [
      "{'_Person__name': '김뫄뫄', 'age': 23, '_Person__gender': '여'}\n",
      "{'_Person__name': '이뫄뫄', 'age': 25, '_Person__gender': '남'}\n"
     ]
    }
   ],
   "source": [
    "#인스턴스변수명.__dict__\n",
    "print(kim.__dict__)\n",
    "print(lee.__dict__)"
   ]
  },
  {
   "cell_type": "markdown",
   "metadata": {},
   "source": [
    "- 연산자 오버로딩(Overloading)"
   ]
  },
  {
   "cell_type": "code",
   "execution_count": 62,
   "metadata": {},
   "outputs": [
    {
     "data": {
      "text/plain": [
       "('HongF', 'HongHongHongHong')"
      ]
     },
     "execution_count": 62,
     "metadata": {},
     "output_type": "execute_result"
    }
   ],
   "source": [
    "name = \"Hong\"\n",
    "gender =\"F\"\n",
    "\n",
    "name + gender , name*4"
   ]
  },
  {
   "cell_type": "code",
   "execution_count": 63,
   "metadata": {},
   "outputs": [
    {
     "data": {
      "text/plain": [
       "([1, 2, 3, 4, 10, 20, 30, 40], [1, 2, 3, 4, 1, 2, 3, 4])"
      ]
     },
     "execution_count": 63,
     "metadata": {},
     "output_type": "execute_result"
    }
   ],
   "source": [
    "n1 = [1,2,3,4]\n",
    "n2 = [10,20,30,40]\n",
    "\n",
    "n1+n2, n1*2"
   ]
  },
  {
   "cell_type": "code",
   "execution_count": 64,
   "metadata": {},
   "outputs": [
    {
     "name": "stdout",
     "output_type": "stream",
     "text": [
      "__add__()\n",
      "46\n"
     ]
    }
   ],
   "source": [
    "kim+bang"
   ]
  },
  {
   "cell_type": "code",
   "execution_count": 66,
   "metadata": {},
   "outputs": [
    {
     "name": "stdout",
     "output_type": "stream",
     "text": [
      "92\n"
     ]
    }
   ],
   "source": [
    "kim*4"
   ]
  }
 ],
 "metadata": {
  "kernelspec": {
   "display_name": "TENSOR_39",
   "language": "python",
   "name": "python3"
  },
  "language_info": {
   "codemirror_mode": {
    "name": "ipython",
    "version": 3
   },
   "file_extension": ".py",
   "mimetype": "text/x-python",
   "name": "python",
   "nbconvert_exporter": "python",
   "pygments_lexer": "ipython3",
   "version": "3.9.18"
  }
 },
 "nbformat": 4,
 "nbformat_minor": 2
}
