{
 "cells": [
  {
   "cell_type": "markdown",
   "metadata": {},
   "source": [
    "#### 선형회귀 모델\n",
    "- 피쳐와 타켓의 관계가 선형의 관계일 경우\n",
    "    * 비례/반비례\n",
    "- 선형 회귀식 : y = Wx+b\n",
    "- 찾아야 되는 값 : w, b"
   ]
  },
  {
   "cell_type": "code",
   "execution_count": 40,
   "metadata": {},
   "outputs": [],
   "source": [
    "#모듈 로딩\n",
    "import tensorflow as tf"
   ]
  },
  {
   "cell_type": "code",
   "execution_count": 41,
   "metadata": {},
   "outputs": [],
   "source": [
    "# 랜덤 값 동일 고정\n",
    "tf.random.set_seed(2)"
   ]
  },
  {
   "cell_type": "markdown",
   "metadata": {},
   "source": [
    "[1] 학습 데이터"
   ]
  },
  {
   "cell_type": "code",
   "execution_count": 42,
   "metadata": {},
   "outputs": [
    {
     "name": "stdout",
     "output_type": "stream",
     "text": [
      "W=> <tf.Variable 'Variable:0' shape=(1,) dtype=float32, numpy=array([0.43616885], dtype=float32)> \n",
      "b=> <tf.Variable 'Variable:0' shape=(1,) dtype=float32, numpy=array([-0.03622195], dtype=float32)>\n"
     ]
    }
   ],
   "source": [
    "#데이터 생성 -> 모델 y=Wx+b\n",
    "W = tf.Variable(tf.random.normal([1]))\n",
    "b = tf.Variable(tf.random.normal([1]))\n",
    "\n",
    "print(f'W=> {W} \\nb=> {b}')"
   ]
  },
  {
   "cell_type": "markdown",
   "metadata": {},
   "source": [
    "[2] 최적화 관련 인스턴스"
   ]
  },
  {
   "cell_type": "code",
   "execution_count": 43,
   "metadata": {},
   "outputs": [],
   "source": [
    "# 빠르게 w, b 값을 찾아내는 방법 즉, 경사하강법 알고리즘\n",
    "# 종류 : 다양(ex. SGD, Momantom, RMSProp, ...)\n",
    "\n",
    "optimizer = tf.optimizers.Adam()"
   ]
  },
  {
   "cell_type": "markdown",
   "metadata": {},
   "source": [
    "[3] 학습 관련 함수 정의"
   ]
  },
  {
   "cell_type": "code",
   "execution_count": 44,
   "metadata": {},
   "outputs": [],
   "source": [
    "## 선형 계산 실행 함수\n",
    "\n",
    "@tf.function\n",
    "def liner_model(x):\n",
    "    return W*x+b"
   ]
  },
  {
   "cell_type": "code",
   "execution_count": 45,
   "metadata": {},
   "outputs": [],
   "source": [
    "## 손실/비용함수 : 정답과 예측의 차이 계산\n",
    "# MSE 함수\n",
    "\n",
    "@tf.function\n",
    "def mse_loss(y_pre, y):\n",
    "    return tf.reduce_mean( tf.square(y_pre - y) )"
   ]
  },
  {
   "cell_type": "code",
   "execution_count": 46,
   "metadata": {},
   "outputs": [],
   "source": [
    "##학습 진행함수 : 학습용 데이터셋 x,y\n",
    "\n",
    "@tf.function\n",
    "def training(x,y):\n",
    "    with tf.GradientTape() as Tape:\n",
    "        #학습 즉, 선형계산 수행\n",
    "        pre_y = liner_model(x)\n",
    "        #손실/비용 계산\n",
    "        loss = mse_loss(pre_y, y)\n",
    "\n",
    "    #새로운 W,b의 값 자동 계산\n",
    "    values = Tape.gradient(loss, [W, b])\n",
    "\n",
    "    #새로운 값으로 W, b 업데이트\n",
    "    optimizer.apply_gradients(zip(values, [W,b]))\n",
    "\n",
    "    print(f'Loss - > {loss}')"
   ]
  },
  {
   "cell_type": "markdown",
   "metadata": {},
   "source": [
    "[4] 학습"
   ]
  },
  {
   "cell_type": "code",
   "execution_count": 47,
   "metadata": {},
   "outputs": [],
   "source": [
    "# 학습용 데이터 셋\n",
    "x_train = [1,2,3,4]\n",
    "y_train = [2,4,6,8]"
   ]
  },
  {
   "cell_type": "code",
   "execution_count": 48,
   "metadata": {},
   "outputs": [
    {
     "name": "stdout",
     "output_type": "stream",
     "text": [
      "Loss - > Tensor(\"PartitionedCall:0\", shape=(), dtype=float32)\n",
      "Loss - > Tensor(\"PartitionedCall:0\", shape=(), dtype=float32)\n"
     ]
    }
   ],
   "source": [
    "# 학습 진행\n",
    "for _ in range(1000):\n",
    "    training(x_train, y_train)"
   ]
  },
  {
   "cell_type": "code",
   "execution_count": 50,
   "metadata": {},
   "outputs": [
    {
     "name": "stdout",
     "output_type": "stream",
     "text": [
      "<tf.Variable 'Variable:0' shape=(1,) dtype=float32, numpy=array([1.2231092], dtype=float32)>\n",
      "<tf.Variable 'Variable:0' shape=(1,) dtype=float32, numpy=array([0.7355843], dtype=float32)>\n"
     ]
    }
   ],
   "source": [
    "# W=> <tf.Variable 'Variable:0' shape=(1,) dtype=float32, numpy=array([0.43616885], dtype=float32)> \n",
    "# b=> <tf.Variable 'Variable:0' shape=(1,) dtype=float32, numpy=array([-0.03622195], dtype=float32)>\n",
    "print(W, b, sep='\\n')"
   ]
  },
  {
   "cell_type": "markdown",
   "metadata": {},
   "source": [
    "[5] 테스트"
   ]
  },
  {
   "cell_type": "code",
   "execution_count": 51,
   "metadata": {},
   "outputs": [
    {
     "name": "stdout",
     "output_type": "stream",
     "text": [
      "[3, 6, 9, 12, 15, 18, 21]\n"
     ]
    }
   ],
   "source": [
    "x_test = list(range(3, 22, 3))\n",
    "print(x_test)"
   ]
  },
  {
   "cell_type": "code",
   "execution_count": 54,
   "metadata": {},
   "outputs": [
    {
     "data": {
      "text/plain": [
       "array([ 4.404912,  8.07424 , 11.743567, 15.412895, 19.082222, 22.75155 ,\n",
       "       26.42088 ], dtype=float32)"
      ]
     },
     "execution_count": 54,
     "metadata": {},
     "output_type": "execute_result"
    }
   ],
   "source": [
    "liner_model(x_test).numpy()"
   ]
  }
 ],
 "metadata": {
  "kernelspec": {
   "display_name": "TENSOR_39",
   "language": "python",
   "name": "python3"
  },
  "language_info": {
   "codemirror_mode": {
    "name": "ipython",
    "version": 3
   },
   "file_extension": ".py",
   "mimetype": "text/x-python",
   "name": "python",
   "nbconvert_exporter": "python",
   "pygments_lexer": "ipython3",
   "version": "3.9.18"
  }
 },
 "nbformat": 4,
 "nbformat_minor": 2
}
