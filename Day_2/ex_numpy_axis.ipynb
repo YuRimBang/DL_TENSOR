{
 "cells": [
  {
   "cell_type": "markdown",
   "metadata": {},
   "source": [
    "### 필수 패키지 Numpy - 축 (axis) 변경"
   ]
  },
  {
   "cell_type": "code",
   "execution_count": 1,
   "metadata": {},
   "outputs": [],
   "source": [
    "import numpy as np"
   ]
  },
  {
   "cell_type": "code",
   "execution_count": 2,
   "metadata": {},
   "outputs": [
    {
     "name": "stdout",
     "output_type": "stream",
     "text": [
      "nparray01.shape = (2, 5)\n",
      "[[ 1  2  3  4  5]\n",
      " [ 6  7  8  9 10]]\n",
      "nparray01.shape = (5, 2)\n",
      "[[ 1  6]\n",
      " [ 2  7]\n",
      " [ 3  8]\n",
      " [ 4  9]\n",
      " [ 5 10]]\n"
     ]
    }
   ],
   "source": [
    "nparray01=np.array( [ [1,2,3,4,5], [6,7, 8, 9, 10] ])\n",
    "\n",
    "### T 속성 : 행 <--> 열 축 변경\n",
    "print('nparray01.shape =', nparray01.shape)\n",
    "print(nparray01)\n",
    "nparray01=nparray01.T\n",
    "print('nparray01.shape =', nparray01.shape)\n",
    "print(nparray01)"
   ]
  },
  {
   "cell_type": "markdown",
   "metadata": {},
   "source": [
    "### 2차원 배열 축 변경"
   ]
  },
  {
   "cell_type": "code",
   "execution_count": 4,
   "metadata": {},
   "outputs": [
    {
     "name": "stdout",
     "output_type": "stream",
     "text": [
      "[[1 4]\n",
      " [2 5]\n",
      " [3 6]]\n"
     ]
    }
   ],
   "source": [
    "\n",
    "### swapaxes() 메서드 : 2개 축 변경\n",
    "\n",
    "data = np.array([[1, 2, 3], \n",
    "                [4, 5, 6],\n",
    "                [4, 5, 6],\n",
    "                [4, 5, 6]])\n",
    "\n",
    "# 축 0(행)과 축 1(열)을 교환\n",
    "swapped_arr = np.swapaxes(data, 0, 1)\n",
    "\n",
    "print(swapped_arr)"
   ]
  },
  {
   "cell_type": "code",
   "execution_count": 12,
   "metadata": {},
   "outputs": [
    {
     "name": "stdout",
     "output_type": "stream",
     "text": [
      "[[1 4]\n",
      " [2 5]\n",
      " [3 6]]\n"
     ]
    }
   ],
   "source": [
    "# 2차원 배열 생성\n",
    "arr = np.array([[1, 2, 3], \n",
    "                [4, 5, 6]])\n",
    "\n",
    "# T 속성을 사용하여 배열 전치\n",
    "transposed_arr = arr.T\n",
    "\n",
    "print(transposed_arr)"
   ]
  },
  {
   "cell_type": "markdown",
   "metadata": {},
   "source": [
    "### 3차원 배열 축 변경"
   ]
  },
  {
   "cell_type": "code",
   "execution_count": 14,
   "metadata": {},
   "outputs": [
    {
     "name": "stdout",
     "output_type": "stream",
     "text": [
      "[[[1 5]\n",
      "  [3 7]]\n",
      "\n",
      " [[2 6]\n",
      "  [4 8]]]\n",
      "[[[1 5]\n",
      "  [3 7]]\n",
      "\n",
      " [[2 6]\n",
      "  [4 8]]]\n"
     ]
    }
   ],
   "source": [
    "data2 = np.array([[[1, 2], \n",
    "                 [3, 4]], \n",
    "                [[5, 6], \n",
    "                 [7, 8]]])\n",
    "\n",
    "# 축 0과 축 2를 교환\n",
    "swapped_arr = np.swapaxes(data2, 0, 2)\n",
    "swapped_arr1 = data2.swapaxes(0,2)\n",
    "\n",
    "print(swapped_arr, swapped_arr1, sep='\\n')\n"
   ]
  },
  {
   "cell_type": "code",
   "execution_count": 16,
   "metadata": {},
   "outputs": [
    {
     "name": "stdout",
     "output_type": "stream",
     "text": [
      "[[[1 5]\n",
      "  [3 7]]\n",
      "\n",
      " [[2 6]\n",
      "  [4 8]]\n",
      "\n",
      " [[3 7]\n",
      "  [5 9]]]\n"
     ]
    }
   ],
   "source": [
    "# 3차원 배열 생성\n",
    "arr = np.array([[[1, 2, 3], \n",
    "                 [3, 4, 5]], \n",
    "                [[5, 6, 7], \n",
    "                 [7, 8, 9]]])\n",
    "\n",
    "# T 속성을 사용하여 배열 전치\n",
    "transposed_arr = arr.T\n",
    "\n",
    "print(transposed_arr)"
   ]
  },
  {
   "cell_type": "code",
   "execution_count": 18,
   "metadata": {},
   "outputs": [
    {
     "name": "stdout",
     "output_type": "stream",
     "text": [
      "(2, 2, 3)\n",
      "(2, 3, 2)\n"
     ]
    }
   ],
   "source": [
    "###trnaspose : 3 축 변경 -> 축 순서 설정\n",
    "\n",
    "print(arr.shape)\n",
    "\n",
    "arr = arr.transpose(1, 2, 0)\n",
    "print(arr.shape)"
   ]
  }
 ],
 "metadata": {
  "kernelspec": {
   "display_name": "TENSOR_39",
   "language": "python",
   "name": "python3"
  },
  "language_info": {
   "codemirror_mode": {
    "name": "ipython",
    "version": 3
   },
   "file_extension": ".py",
   "mimetype": "text/x-python",
   "name": "python",
   "nbconvert_exporter": "python",
   "pygments_lexer": "ipython3",
   "version": "3.9.18"
  }
 },
 "nbformat": 4,
 "nbformat_minor": 2
}
