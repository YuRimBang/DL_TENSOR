{
 "cells": [
  {
   "cell_type": "markdown",
   "metadata": {},
   "source": [
    "### 필수 패키지 Numpy 이해\n",
    "- 배열 형식의 데이터 저장 -> ndarray 객체\n",
    "- 조건 : 동일 데이터 타입을 연속된 메모리 공간에 저장"
   ]
  },
  {
   "cell_type": "code",
   "execution_count": 1,
   "metadata": {},
   "outputs": [],
   "source": [
    "#모듈 로딩\n",
    "import numpy as np\n",
    "\n",
    "import my_func as mf"
   ]
  },
  {
   "cell_type": "code",
   "execution_count": 2,
   "metadata": {},
   "outputs": [
    {
     "data": {
      "text/plain": [
       "array(10)"
      ]
     },
     "execution_count": 2,
     "metadata": {},
     "output_type": "execute_result"
    }
   ],
   "source": [
    "#ndarray 객체/인스턴스 생성 - 방법[1] np.array()\n",
    "\n",
    "arr1 = np.array(10) #주소 저장, 스칼라 Scalar\n",
    "\n",
    "arr1"
   ]
  },
  {
   "cell_type": "code",
   "execution_count": 3,
   "metadata": {},
   "outputs": [
    {
     "name": "stdout",
     "output_type": "stream",
     "text": [
      "shape : ()\n",
      "ndim : 0D\n",
      "size : 1개\n",
      "itemsize : 4바이트\n",
      "dtype : int32\n",
      "data : <memory at 0x000001F96AE16CC0>\n"
     ]
    }
   ],
   "source": [
    "#ndarray 객체/인스턴스 속성 확인/읽기\n",
    "\n",
    "print(f'shape : {arr1.shape}')\n",
    "print(f'ndim : {arr1.ndim}D')\n",
    "print(f'size : {arr1.size}개')\n",
    "print(f'itemsize : {arr1.itemsize}바이트')\n",
    "print(f'dtype : {arr1.dtype}')\n",
    "print(f'data : {arr1.data}') #주소값"
   ]
  },
  {
   "cell_type": "code",
   "execution_count": 4,
   "metadata": {},
   "outputs": [
    {
     "name": "stdout",
     "output_type": "stream",
     "text": [
      "===========[myArr]==========\n",
      "shape : ()\n",
      "ndim : 0D\n",
      "size : 1개\n",
      "itemsize : 4바이트\n",
      "dtype : int32\n",
      "data : <memory at 0x000001F96AE16D60>\n",
      "10\n"
     ]
    }
   ],
   "source": [
    "mf.printInfo(arr1, \"myArr\")"
   ]
  },
  {
   "cell_type": "code",
   "execution_count": 5,
   "metadata": {},
   "outputs": [
    {
     "name": "stdout",
     "output_type": "stream",
     "text": [
      "===========[arr2]==========\n",
      "shape : (3,)\n",
      "ndim : 1D\n",
      "size : 3개\n",
      "itemsize : 4바이트\n",
      "dtype : int32\n",
      "data : <memory at 0x000001F96C1F3F40>\n",
      "[11 22 33]\n"
     ]
    }
   ],
   "source": [
    "# 1차원 배열 즉, 벡터(Vector)\n",
    "\n",
    "arr2 = np.array([11,22,33])\n",
    "mf.printInfo(arr2, 'arr2')"
   ]
  },
  {
   "cell_type": "code",
   "execution_count": 6,
   "metadata": {},
   "outputs": [
    {
     "name": "stdout",
     "output_type": "stream",
     "text": [
      "===========[arr3]==========\n",
      "shape : (2, 3)\n",
      "ndim : 2D\n",
      "size : 6개\n",
      "itemsize : 4바이트\n",
      "dtype : int32\n",
      "data : <memory at 0x000001F96AD74A00>\n",
      "[[11 22 33]\n",
      " [44 55 66]]\n"
     ]
    }
   ],
   "source": [
    "# 2차원 배열 즉, 행렬(Matrix)\n",
    "arr3 = np.array([[11,22,33],[44,55,66]])\n",
    "mf.printInfo(arr3, 'arr3')"
   ]
  },
  {
   "cell_type": "code",
   "execution_count": 7,
   "metadata": {},
   "outputs": [
    {
     "name": "stdout",
     "output_type": "stream",
     "text": [
      "===========[arr4]==========\n",
      "shape : (2, 2, 3)\n",
      "ndim : 3D\n",
      "size : 12개\n",
      "itemsize : 4바이트\n",
      "dtype : int32\n",
      "data : <memory at 0x000001F96ACD9A90>\n",
      "[[[11 22 33]\n",
      "  [44 55 66]]\n",
      "\n",
      " [[11 22 33]\n",
      "  [44 55 66]]]\n"
     ]
    }
   ],
   "source": [
    "# 3차원 배열 즉, 다차원 배열\n",
    "arr4 = np.array([[[11,22,33],[44,55,66]], [[11,22,33],[44,55,66]]])\n",
    "mf.printInfo(arr4, 'arr4')"
   ]
  },
  {
   "cell_type": "code",
   "execution_count": 8,
   "metadata": {},
   "outputs": [
    {
     "name": "stdout",
     "output_type": "stream",
     "text": [
      "===========[arr5]==========\n",
      "shape : (2, 2, 3)\n",
      "ndim : 3D\n",
      "size : 12개\n",
      "itemsize : 1바이트\n",
      "dtype : uint8\n",
      "data : <memory at 0x000001F96ACD9A90>\n",
      "[[[11 22 33]\n",
      "  [44 55 66]]\n",
      "\n",
      " [[11 22 33]\n",
      "  [44 55 66]]]\n"
     ]
    }
   ],
   "source": [
    "# 3차원 배열 즉, 다차원 배열 / 데이터 타입 : 부호 없는 정수 1 바이트\n",
    "arr5 = np.array([[[11,22,33],[44,55,66]], [[11,22,33],[44,55,66]]],\n",
    "                dtype='uint8')\n",
    "mf.printInfo(arr5, 'arr5')"
   ]
  },
  {
   "cell_type": "code",
   "execution_count": 9,
   "metadata": {},
   "outputs": [
    {
     "name": "stdout",
     "output_type": "stream",
     "text": [
      "===========[arr6]==========\n",
      "shape : (2,)\n",
      "ndim : 1D\n",
      "size : 2개\n",
      "itemsize : 8바이트\n",
      "dtype : float64\n",
      "data : <memory at 0x000001F96C1F3F40>\n",
      "[11. 22.]\n"
     ]
    }
   ],
   "source": [
    "# 1차원 배열 즉, 벡터(Vector) / 데이터 타입 : 실수\n",
    "\n",
    "arr6 = np.array([11,22], dtype='float')\n",
    "mf.printInfo(arr6, 'arr6')"
   ]
  },
  {
   "cell_type": "markdown",
   "metadata": {},
   "source": [
    "- ndarray 객체/인스턴스 생성 - 방법[2] 특정값으로 채운 배열"
   ]
  },
  {
   "cell_type": "code",
   "execution_count": 11,
   "metadata": {},
   "outputs": [
    {
     "name": "stdout",
     "output_type": "stream",
     "text": [
      "===========[arr2_1]==========\n",
      "shape : (3,)\n",
      "ndim : 1D\n",
      "size : 3개\n",
      "itemsize : 8바이트\n",
      "dtype : float64\n",
      "data : <memory at 0x000001F96C2C8040>\n",
      "[1. 1. 1.]\n",
      "===========[arr2_1]==========\n",
      "shape : (3,)\n",
      "ndim : 1D\n",
      "size : 3개\n",
      "itemsize : 4바이트\n",
      "dtype : int32\n",
      "data : <memory at 0x000001F96C2C8040>\n",
      "[1 1 1]\n"
     ]
    }
   ],
   "source": [
    "### np.ones() : 모든 값을 1으로 채운 배열 생성\n",
    "arr2_1 = np.ones(3)\n",
    "mf.printInfo(arr2_1, 'arr2_1')\n",
    "\n",
    "arr2_1 = np.ones(3, dtype='int')\n",
    "mf.printInfo(arr2_1, 'arr2_1')"
   ]
  },
  {
   "cell_type": "code",
   "execution_count": 14,
   "metadata": {},
   "outputs": [
    {
     "name": "stdout",
     "output_type": "stream",
     "text": [
      "===========[arr2_2]==========\n",
      "shape : (3, 2)\n",
      "ndim : 2D\n",
      "size : 6개\n",
      "itemsize : 8바이트\n",
      "dtype : float64\n",
      "data : <memory at 0x000001F96C201BA0>\n",
      "[[0. 0.]\n",
      " [0. 0.]\n",
      " [0. 0.]]\n",
      "===========[arr2_2]==========\n",
      "shape : (3, 2, 2)\n",
      "ndim : 3D\n",
      "size : 12개\n",
      "itemsize : 1바이트\n",
      "dtype : uint8\n",
      "data : <memory at 0x000001F96C297040>\n",
      "[[[0 0]\n",
      "  [0 0]]\n",
      "\n",
      " [[0 0]\n",
      "  [0 0]]\n",
      "\n",
      " [[0 0]\n",
      "  [0 0]]]\n"
     ]
    }
   ],
   "source": [
    "### np.zeros() : 모든 값을 0으로 채운 배열 생성\n",
    "arr2_2 = np.zeros((3,2))\n",
    "mf.printInfo(arr2_2, 'arr2_2')\n",
    "\n",
    "arr2_2 = np.zeros((3,2,2), dtype='uint8')\n",
    "mf.printInfo(arr2_2, 'arr2_2')"
   ]
  },
  {
   "cell_type": "code",
   "execution_count": 19,
   "metadata": {},
   "outputs": [
    {
     "name": "stdout",
     "output_type": "stream",
     "text": [
      "===========[arr2_2]==========\n",
      "shape : (3, 2)\n",
      "ndim : 2D\n",
      "size : 6개\n",
      "itemsize : 4바이트\n",
      "dtype : int32\n",
      "data : <memory at 0x000001F96C201BA0>\n",
      "[[5 5]\n",
      " [5 5]\n",
      " [5 5]]\n",
      "===========[arr2_2]==========\n",
      "shape : (2, 2, 2, 3)\n",
      "ndim : 4D\n",
      "size : 24개\n",
      "itemsize : 1바이트\n",
      "dtype : uint8\n",
      "data : <memory at 0x000001F96C2B1940>\n",
      "[[[[7 7 7]\n",
      "   [7 7 7]]\n",
      "\n",
      "  [[7 7 7]\n",
      "   [7 7 7]]]\n",
      "\n",
      "\n",
      " [[[7 7 7]\n",
      "   [7 7 7]]\n",
      "\n",
      "  [[7 7 7]\n",
      "   [7 7 7]]]]\n"
     ]
    }
   ],
   "source": [
    "### np.full() : 모든 값을 원하는 값으로 채운 배열 생성\n",
    "arr2_2 = np.full((3,2), 5)\n",
    "mf.printInfo(arr2_2, 'arr2_2')\n",
    "\n",
    "arr2_2 = np.full((2,2,2,3), fill_value=7, dtype='uint8') #3차원이 두개 -> 4차원\n",
    "mf.printInfo(arr2_2, 'arr2_2')"
   ]
  },
  {
   "cell_type": "markdown",
   "metadata": {},
   "source": [
    "- ndarray 객체/인스턴스 생성 - 방법[3] 다른 array와 비슷한 객체 생성"
   ]
  },
  {
   "cell_type": "code",
   "execution_count": 24,
   "metadata": {},
   "outputs": [
    {
     "data": {
      "text/plain": [
       "array([[1., 0., 0., 0., 0.],\n",
       "       [0., 1., 0., 0., 0.],\n",
       "       [0., 0., 1., 0., 0.],\n",
       "       [0., 0., 0., 1., 0.],\n",
       "       [0., 0., 0., 0., 1.]])"
      ]
     },
     "execution_count": 24,
     "metadata": {},
     "output_type": "execute_result"
    }
   ],
   "source": [
    "arr3_0 = np.eye(5,5)\n",
    "arr3_0"
   ]
  },
  {
   "cell_type": "code",
   "execution_count": 20,
   "metadata": {},
   "outputs": [
    {
     "data": {
      "text/plain": [
       "array([[11, 22, 33],\n",
       "       [44, 55, 66]])"
      ]
     },
     "execution_count": 20,
     "metadata": {},
     "output_type": "execute_result"
    }
   ],
   "source": [
    "### 기존 array와 동일한 shape의 array 생성 -> ones_like()\n",
    "arr3_1 = np.array([[11,22,33], [44,55,66]])\n",
    "arr3_1"
   ]
  },
  {
   "cell_type": "code",
   "execution_count": 21,
   "metadata": {},
   "outputs": [
    {
     "data": {
      "text/plain": [
       "array([[1, 1, 1],\n",
       "       [1, 1, 1]])"
      ]
     },
     "execution_count": 21,
     "metadata": {},
     "output_type": "execute_result"
    }
   ],
   "source": [
    "arr3_2 = np.ones_like(arr3_1)\n",
    "arr3_2"
   ]
  },
  {
   "cell_type": "code",
   "execution_count": 25,
   "metadata": {},
   "outputs": [
    {
     "data": {
      "text/plain": [
       "array([[0, 0, 0],\n",
       "       [0, 0, 0]])"
      ]
     },
     "execution_count": 25,
     "metadata": {},
     "output_type": "execute_result"
    }
   ],
   "source": [
    "arr3_3 = np.zeros_like(arr3_1)\n",
    "arr3_3"
   ]
  },
  {
   "cell_type": "code",
   "execution_count": 26,
   "metadata": {},
   "outputs": [
    {
     "data": {
      "text/plain": [
       "array([[9, 9, 9],\n",
       "       [9, 9, 9]])"
      ]
     },
     "execution_count": 26,
     "metadata": {},
     "output_type": "execute_result"
    }
   ],
   "source": [
    "arr3_4 = np.full_like(arr3_1, 9)\n",
    "arr3_4"
   ]
  },
  {
   "cell_type": "markdown",
   "metadata": {},
   "source": [
    "- ndarray 객체/인스턴스 생성 - 방법[4] 데이터 범위 지정으로 생성"
   ]
  },
  {
   "cell_type": "code",
   "execution_count": 27,
   "metadata": {},
   "outputs": [
    {
     "data": {
      "text/plain": [
       "array([0, 1, 2, 3, 4])"
      ]
     },
     "execution_count": 27,
     "metadata": {},
     "output_type": "execute_result"
    }
   ],
   "source": [
    "# np.arnage(시작, 종료+1, 간격) 시작 <= ~ <종료\n",
    "arr4_1 = np.arange(5)\n",
    "arr4_1"
   ]
  },
  {
   "cell_type": "code",
   "execution_count": 28,
   "metadata": {},
   "outputs": [
    {
     "data": {
      "text/plain": [
       "array([1, 2, 3, 4])"
      ]
     },
     "execution_count": 28,
     "metadata": {},
     "output_type": "execute_result"
    }
   ],
   "source": [
    "arr4_2 = np.arange(1,5)\n",
    "arr4_2"
   ]
  },
  {
   "cell_type": "code",
   "execution_count": 31,
   "metadata": {},
   "outputs": [
    {
     "data": {
      "text/plain": [
       "array([ 2.,  4.,  6.,  8., 10.], dtype=float32)"
      ]
     },
     "execution_count": 31,
     "metadata": {},
     "output_type": "execute_result"
    }
   ],
   "source": [
    "arr4_3 = np.arange(2, 11, 2, dtype=np.float32)\n",
    "arr4_3"
   ]
  },
  {
   "cell_type": "code",
   "execution_count": 34,
   "metadata": {},
   "outputs": [
    {
     "name": "stdout",
     "output_type": "stream",
     "text": [
      "[1.  1.5 2.  2.5 3.  3.5 4.  4.5 5.  5.5] [1 1 1 1 1 1 1 1 1 1]\n"
     ]
    }
   ],
   "source": [
    "arr4_4 = np.arange(1, 6, step=0.5, dtype=np.float32)\n",
    "arr4_5 = np.arange(1.0, 6.0, step=0.5, dtype=np.int32)\n",
    "print(arr4_4, arr4_5)"
   ]
  },
  {
   "cell_type": "code",
   "execution_count": 37,
   "metadata": {},
   "outputs": [
    {
     "data": {
      "text/plain": [
       "array([ 1. ,  4.5,  8. , 11.5, 15. , 18.5, 22. , 25.5, 29. , 32.5, 36. ,\n",
       "       39.5, 43. , 46.5, 50. ])"
      ]
     },
     "execution_count": 37,
     "metadata": {},
     "output_type": "execute_result"
    }
   ],
   "source": [
    "# linspace(start, stop, num=50, endpoint=True) 시작 <= ~ <= 종료\n",
    "arr4_6 = np.linspace(1,50, num=15)\n",
    "arr4_6"
   ]
  },
  {
   "cell_type": "code",
   "execution_count": 39,
   "metadata": {},
   "outputs": [
    {
     "data": {
      "text/plain": [
       "(array([ 1.        ,  4.26666667,  7.53333333, 10.8       , 14.06666667,\n",
       "        17.33333333, 20.6       , 23.86666667, 27.13333333, 30.4       ,\n",
       "        33.66666667, 36.93333333, 40.2       , 43.46666667, 46.73333333]),\n",
       " 3.2666666666666666)"
      ]
     },
     "execution_count": 39,
     "metadata": {},
     "output_type": "execute_result"
    }
   ],
   "source": [
    "arr4_7 = np.linspace(1,50, num=15, endpoint=False, retstep=True)\n",
    "arr4_7"
   ]
  }
 ],
 "metadata": {
  "kernelspec": {
   "display_name": "TENSOR_39",
   "language": "python",
   "name": "python3"
  },
  "language_info": {
   "codemirror_mode": {
    "name": "ipython",
    "version": 3
   },
   "file_extension": ".py",
   "mimetype": "text/x-python",
   "name": "python",
   "nbconvert_exporter": "python",
   "pygments_lexer": "ipython3",
   "version": "3.9.18"
  }
 },
 "nbformat": 4,
 "nbformat_minor": 2
}
