{
 "cells": [
  {
   "cell_type": "markdown",
   "metadata": {},
   "source": [
    "### 필수 패키지 Numpy\n",
    "- ndarray 객체 형태 즉, shape 변환\n",
    "- ND <---> 1D\n",
    "    * view ndarray 변환 : obj.reshape() 메서드\n",
    "    * copy ndarray 변환 : np.resize() 함수\n",
    "\n",
    "- ND ---> 1D\n",
    "    * view ndarray 변환 : obj.ravel() 메서드\n",
    "    * copy ndarray 변환 : obj.flatten() 함수\n",
    "\n",
    "- view ndarray란?\n",
    "    * 데이터는 동일하게, 형태만 다르게 표현\n",
    "\n",
    "- copy ndarray란?\n",
    "    * 데이터를 새롭게 저장한 새로운 ndarray"
   ]
  },
  {
   "cell_type": "code",
   "execution_count": 60,
   "metadata": {},
   "outputs": [
    {
     "name": "stdout",
     "output_type": "stream",
     "text": [
      "1.26.4\n"
     ]
    }
   ],
   "source": [
    "#모듈 로딩\n",
    "import numpy as np\n",
    "\n",
    "print(np.__version__) #파이썬 _ _xxx_ _, _ _ xxx_ _() -> 매직 변수/함수"
   ]
  },
  {
   "cell_type": "markdown",
   "metadata": {},
   "source": [
    "- 1D --> ND 또는 ND --> 1D 변환"
   ]
  },
  {
   "cell_type": "code",
   "execution_count": 61,
   "metadata": {},
   "outputs": [
    {
     "data": {
      "text/plain": [
       "(array([[1, 1, 1, 1, 1],\n",
       "        [1, 1, 1, 1, 1]], dtype=int8),\n",
       " 2)"
      ]
     },
     "execution_count": 61,
     "metadata": {},
     "output_type": "execute_result"
    }
   ],
   "source": [
    "### reshpae()\n",
    "arr1 = np.ones((2,5), dtype=np.int8)\n",
    "arr1, arr1.ndim"
   ]
  },
  {
   "cell_type": "code",
   "execution_count": 62,
   "metadata": {},
   "outputs": [
    {
     "name": "stdout",
     "output_type": "stream",
     "text": [
      "[[1 1 1 1 1]\n",
      " [1 1 1 1 1]]\n",
      "[1 1 1 1 1 1 1 1 1 1]\n"
     ]
    }
   ],
   "source": [
    "### 2D (2,5) --> 1D (10,)\n",
    "arr2 = arr1.reshape((10,))\n",
    "print(arr1, arr2, sep='\\n')"
   ]
  },
  {
   "cell_type": "code",
   "execution_count": 63,
   "metadata": {},
   "outputs": [
    {
     "data": {
      "text/plain": [
       "array([[1, 1],\n",
       "       [1, 1],\n",
       "       [1, 1],\n",
       "       [1, 1],\n",
       "       [1, 1]], dtype=int8)"
      ]
     },
     "execution_count": 63,
     "metadata": {},
     "output_type": "execute_result"
    }
   ],
   "source": [
    "### 1D (10,) --> 1D (1,10) (5,2) (2,5) (10,1)\n",
    "arr3 = arr2.reshape((5,2))\n",
    "arr3"
   ]
  },
  {
   "cell_type": "markdown",
   "metadata": {},
   "source": [
    "### 행과 영 중에 하나만 지정하고 나머지는 계산해서 설정 -> -1"
   ]
  },
  {
   "cell_type": "code",
   "execution_count": 64,
   "metadata": {},
   "outputs": [
    {
     "name": "stdout",
     "output_type": "stream",
     "text": [
      "[[1 1]\n",
      " [1 1]\n",
      " [1 1]\n",
      " [1 1]\n",
      " [1 1]]\n",
      "-----------------------\n",
      "[[1 1 1 1 1]\n",
      " [1 1 1 1 1]]\n",
      "-----------------------\n",
      "[[1 1 1 1 1]\n",
      " [1 1 1 1 1]]\n"
     ]
    }
   ],
   "source": [
    "arr4 = arr2.reshape((-1,2))\n",
    "print(arr4)\n",
    "\n",
    "print('-----------------------')\n",
    "\n",
    "arr5 = arr2.reshape((2, -1))\n",
    "print(arr5)\n",
    "\n",
    "print('-----------------------')\n",
    "\n",
    "arr6 = arr2.reshape((1, 2, -1))\n",
    "print(arr5)"
   ]
  },
  {
   "cell_type": "code",
   "execution_count": 65,
   "metadata": {},
   "outputs": [
    {
     "data": {
      "text/plain": [
       "array([100,   1,   1,   1,   1,   1,   1,   1,   1,   1], dtype=int8)"
      ]
     },
     "execution_count": 65,
     "metadata": {},
     "output_type": "execute_result"
    }
   ],
   "source": [
    "#배열의 원소값 변경 : 배열변수명[인덱스] = 새로운 값\n",
    "arr2[0]=100\n",
    "arr2"
   ]
  },
  {
   "cell_type": "code",
   "execution_count": 66,
   "metadata": {},
   "outputs": [
    {
     "name": "stdout",
     "output_type": "stream",
     "text": [
      "[[100   1   1   1   1]\n",
      " [  1   1   1   1   1]]\n",
      "[100   1   1   1   1   1   1   1   1   1]\n"
     ]
    }
   ],
   "source": [
    "### -> reshape() 메서드 : view ndarray\n",
    "### 새로운 ndarray 생성하지 않고, 표현 형식만 변형\n",
    "### 원소 데이터 변경 시 모두 변경됨\n",
    "print(arr1, arr2, sep='\\n')"
   ]
  },
  {
   "cell_type": "code",
   "execution_count": 70,
   "metadata": {},
   "outputs": [
    {
     "name": "stdout",
     "output_type": "stream",
     "text": [
      "[[11 22 33]\n",
      " [44 55 66]]\n",
      "[[11]\n",
      " [22]\n",
      " [33]\n",
      " [44]\n",
      " [55]\n",
      " [66]]\n"
     ]
    }
   ],
   "source": [
    "### resize() : 복사본을 생성한 새로운 ndarray 객체 반환\n",
    "### [주의] resize() 메서드일 졍우는 view ndarray 반환\n",
    "arr9 = np.array([[11,22,33], [44,55,66]])\n",
    "arr7 = np.resize(arr9, (6,1))\n",
    "\n",
    "print(arr9, arr7, sep='\\n')"
   ]
  },
  {
   "cell_type": "markdown",
   "metadata": {},
   "source": [
    "- ND --> 1D 형태 변환"
   ]
  },
  {
   "cell_type": "code",
   "execution_count": 68,
   "metadata": {},
   "outputs": [
    {
     "name": "stdout",
     "output_type": "stream",
     "text": [
      "[11 22 33 44 55 66]\n",
      "[[ 9]\n",
      " [22]\n",
      " [33]\n",
      " [44]\n",
      " [55]\n",
      " [66]]\n",
      "[ 9 22 33 44 55 66]\n"
     ]
    }
   ],
   "source": [
    "### -> view nadrray 반환 ravel()\n",
    "a3 = arr9.ravel()\n",
    "print(a3)\n",
    "\n",
    "arr9[0] = 9\n",
    "print(arr9, a3, sep='\\n')"
   ]
  },
  {
   "cell_type": "code",
   "execution_count": 69,
   "metadata": {},
   "outputs": [
    {
     "name": "stdout",
     "output_type": "stream",
     "text": [
      "[ 9 22 33 44 55 66]\n",
      "[[ 9]\n",
      " [22]\n",
      " [33]\n",
      " [44]\n",
      " [55]\n",
      " [66]]\n",
      "[ 9 22 33 44 55 66]\n"
     ]
    }
   ],
   "source": [
    "### -> copy ndarry 반환 flatten()\n",
    "a3 = arr9.flatten()\n",
    "print(a3)\n",
    "\n",
    "arr9[0] = 9\n",
    "print(arr9, a3, sep='\\n')"
   ]
  }
 ],
 "metadata": {
  "kernelspec": {
   "display_name": "TENSOR_39",
   "language": "python",
   "name": "python3"
  },
  "language_info": {
   "codemirror_mode": {
    "name": "ipython",
    "version": 3
   },
   "file_extension": ".py",
   "mimetype": "text/x-python",
   "name": "python",
   "nbconvert_exporter": "python",
   "pygments_lexer": "ipython3",
   "version": "3.9.18"
  }
 },
 "nbformat": 4,
 "nbformat_minor": 2
}
