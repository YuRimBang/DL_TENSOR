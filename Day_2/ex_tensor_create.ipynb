{
 "cells": [
  {
   "cell_type": "markdown",
   "metadata": {},
   "source": [
    "### 텐서(Tensor) 이해\n",
    "- DL 프레임워크 Tensorflow에서 데이터를 저장하는 타입\n",
    "- N차원 배열\n",
    "- 일반적인 파이썬 문법 변수 선언 X -> Tensor 생성 해야 하기 때문에"
   ]
  },
  {
   "cell_type": "code",
   "execution_count": 1,
   "metadata": {},
   "outputs": [],
   "source": [
    "##모듈 로딩\n",
    "import tensorflow as tf"
   ]
  },
  {
   "cell_type": "markdown",
   "metadata": {},
   "source": [
    "- [상수 데이터 저장 텐서] --> tf.constant()"
   ]
  },
  {
   "cell_type": "code",
   "execution_count": 2,
   "metadata": {},
   "outputs": [
    {
     "name": "stdout",
     "output_type": "stream",
     "text": [
      "<class 'tensorflow.python.framework.ops.EagerTensor'>\n",
      "tf.Tensor(8, shape=(), dtype=int32)\n"
     ]
    }
   ],
   "source": [
    "# 스칼라\n",
    "data1 = tf.constant(8)\n",
    "\n",
    "print(type(data1), data1, sep='\\n')"
   ]
  },
  {
   "cell_type": "code",
   "execution_count": 4,
   "metadata": {},
   "outputs": [
    {
     "name": "stdout",
     "output_type": "stream",
     "text": [
      "<class 'tensorflow.python.framework.ops.EagerTensor'>\n",
      "tf.Tensor([8], shape=(1,), dtype=int32)\n"
     ]
    }
   ],
   "source": [
    "# 벡터 1D\n",
    "data2 = tf.constant([8])\n",
    "\n",
    "print(type(data2), data2, sep='\\n')"
   ]
  },
  {
   "cell_type": "code",
   "execution_count": 7,
   "metadata": {},
   "outputs": [
    {
     "name": "stdout",
     "output_type": "stream",
     "text": [
      "<class 'tensorflow.python.framework.ops.EagerTensor'>\n",
      "tf.Tensor([[8]], shape=(1, 1), dtype=int32)\n",
      "텐서 속성\n",
      "-> shape(1, 1)\n",
      "ndim\n",
      "-> ndim2D\n",
      "dtype\n",
      "-> dtype<dtype: 'int32'>\n"
     ]
    }
   ],
   "source": [
    "# 벡터 2D\n",
    "data3 = tf.constant([[8]])\n",
    "\n",
    "print(type(data3), data3, sep='\\n')\n",
    "print(f'텐서 속성\\n-> shape{data3.shape}')\n",
    "print(f'ndim\\n-> ndim{data3.ndim}D')\n",
    "print(f'dtype\\n-> dtype{data3.dtype}')"
   ]
  },
  {
   "cell_type": "code",
   "execution_count": 15,
   "metadata": {},
   "outputs": [
    {
     "name": "stdout",
     "output_type": "stream",
     "text": [
      "<class 'tensorflow.python.framework.ops.EagerTensor'>\n",
      "tf.Tensor([b'apple' b'kiwi'], shape=(2,), dtype=string)\n"
     ]
    }
   ],
   "source": [
    "data1 = tf.constant(['apple', 'kiwi'])\n",
    "\n",
    "print(type(data1), data1, sep='\\n')"
   ]
  },
  {
   "cell_type": "markdown",
   "metadata": {},
   "source": [
    "- [변수 데이터 저장 텐서] -> tf.Variable() 객체"
   ]
  },
  {
   "cell_type": "code",
   "execution_count": 8,
   "metadata": {},
   "outputs": [
    {
     "name": "stdout",
     "output_type": "stream",
     "text": [
      "<class 'tensorflow.python.ops.resource_variable_ops.ResourceVariable'>\n",
      "<tf.Variable 'Variable:0' shape=() dtype=int32, numpy=10>\n"
     ]
    }
   ],
   "source": [
    "# 0D 스칼라\n",
    "data2_1 = tf.Variable(10)\n",
    "\n",
    "print(type(data2_1), data2_1, sep='\\n')"
   ]
  },
  {
   "cell_type": "code",
   "execution_count": 10,
   "metadata": {},
   "outputs": [
    {
     "name": "stdout",
     "output_type": "stream",
     "text": [
      "<class 'tensorflow.python.ops.resource_variable_ops.ResourceVariable'>\n",
      "<tf.Variable 'Variable:0' shape=(1,) dtype=int32, numpy=array([10])>\n",
      "(1,) Variable:0\n"
     ]
    }
   ],
   "source": [
    "# 1D Vector\n",
    "data2_2 = tf.Variable([10])\n",
    "\n",
    "print(type(data2_2), data2_2, sep='\\n')\n",
    "print(data2_2.shape, data2_2.name)"
   ]
  },
  {
   "cell_type": "code",
   "execution_count": 12,
   "metadata": {},
   "outputs": [
    {
     "name": "stdout",
     "output_type": "stream",
     "text": [
      "<class 'tensorflow.python.ops.resource_variable_ops.ResourceVariable'>\n",
      "<tf.Variable 'Variable:0' shape=(1, 2) dtype=string, numpy=array([[b'apple', b'kiwi']], dtype=object)>\n",
      "(1, 2) Variable:0\n"
     ]
    }
   ],
   "source": [
    "# 2D Matrix\n",
    "data2_3 = tf.Variable([['apple', 'kiwi']])\n",
    "\n",
    "print(type(data2_3), data2_3, sep='\\n')\n",
    "print(data2_3.shape, data2_3.name)"
   ]
  }
 ],
 "metadata": {
  "kernelspec": {
   "display_name": "TENSOR_39",
   "language": "python",
   "name": "python3"
  },
  "language_info": {
   "codemirror_mode": {
    "name": "ipython",
    "version": 3
   },
   "file_extension": ".py",
   "mimetype": "text/x-python",
   "name": "python",
   "nbconvert_exporter": "python",
   "pygments_lexer": "ipython3",
   "version": "3.9.18"
  }
 },
 "nbformat": 4,
 "nbformat_minor": 2
}
