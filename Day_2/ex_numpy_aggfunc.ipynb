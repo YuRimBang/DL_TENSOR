{
 "cells": [
  {
   "cell_type": "markdown",
   "metadata": {},
   "source": [
    "### 필수 패키지 Numpy - 집계함수"
   ]
  },
  {
   "cell_type": "code",
   "execution_count": 1,
   "metadata": {},
   "outputs": [],
   "source": [
    "import numpy as np"
   ]
  },
  {
   "cell_type": "code",
   "execution_count": 3,
   "metadata": {},
   "outputs": [
    {
     "name": "stdout",
     "output_type": "stream",
     "text": [
      "[ 1  2  3  4  5  6  7  8  9 10]\n",
      "[[ 1  2  3  4  5]\n",
      " [ 6  7  8  9 10]]\n"
     ]
    }
   ],
   "source": [
    "# ndarray 데이터 생성\n",
    "d1 = np.arange(1, 11)\n",
    "d2 = np.resize(d1, (2,5))\n",
    "\n",
    "print(d1, d2, sep='\\n')"
   ]
  },
  {
   "cell_type": "code",
   "execution_count": 4,
   "metadata": {},
   "outputs": [
    {
     "name": "stdout",
     "output_type": "stream",
     "text": [
      "(10,)\n",
      "(2, 5)\n"
     ]
    }
   ],
   "source": [
    "print(d1.shape, d2.shape, sep='\\n')"
   ]
  },
  {
   "cell_type": "code",
   "execution_count": 5,
   "metadata": {},
   "outputs": [
    {
     "name": "stdout",
     "output_type": "stream",
     "text": [
      "[ 8  2  3  4  5  6  7  8  9 10]\n",
      "[[ 1  2  3  4  5]\n",
      " [ 6  7  8  9 10]]\n"
     ]
    }
   ],
   "source": [
    "d1[0] = 8\n",
    "\n",
    "print(d1, d2, sep='\\n')"
   ]
  },
  {
   "cell_type": "markdown",
   "metadata": {},
   "source": [
    "- 1D 배열의 집계함수"
   ]
  },
  {
   "cell_type": "code",
   "execution_count": 11,
   "metadata": {},
   "outputs": [
    {
     "name": "stdout",
     "output_type": "stream",
     "text": [
      "d1.sum() -> 62\n",
      "d1.mean() -> 6.2\n",
      "d1.min() -> 2, 1 원소/요소\n",
      "d1.max() -> 10, 9원소/요소\n",
      "d1.sort() -> None, [0 1 2 3 4 5 6 7 8 9]원소/요소\n"
     ]
    }
   ],
   "source": [
    "print(f'd1.sum() -> {d1.sum()}')\n",
    "print(f'd1.mean() -> {d1.mean()}')\n",
    "print(f'd1.min() -> {d1.min()}, {d1.argmin()} 원소/요소')\n",
    "print(f'd1.max() -> {d1.max()}, {d1.argmax() }원소/요소')\n",
    "print(f'd1.sort() -> {d1.sort()}, {d1.argsort() }원소/요소')"
   ]
  },
  {
   "cell_type": "markdown",
   "metadata": {},
   "source": [
    "- 2D 배열의 집계함수"
   ]
  },
  {
   "cell_type": "code",
   "execution_count": 12,
   "metadata": {},
   "outputs": [
    {
     "name": "stdout",
     "output_type": "stream",
     "text": [
      "d2.sum() -> 55\n",
      "d2.mean() -> 5.5\n",
      "d2.min() -> 1, 0 원소/요소\n",
      "d2.max() -> 10, 9원소/요소\n",
      "d2.sort() -> None, [[0 1 2 3 4]\n",
      " [0 1 2 3 4]]원소/요소\n"
     ]
    }
   ],
   "source": [
    "### 대상 : 전체 요소/원소\n",
    "print(f'd2.sum() -> {d2.sum()}')\n",
    "print(f'd2.mean() -> {d2.mean()}')\n",
    "print(f'd2.min() -> {d2.min()}, {d2.argmin()} 원소/요소')\n",
    "print(f'd2.max() -> {d2.max()}, {d2.argmax() }원소/요소')"
   ]
  },
  {
   "cell_type": "code",
   "execution_count": 18,
   "metadata": {},
   "outputs": [
    {
     "name": "stdout",
     "output_type": "stream",
     "text": [
      "[[ 1  2  3  4  5]\n",
      " [ 6  7  8  9 10]]\n",
      "d2.sum() -> [15 40]\n",
      "d2.mean() -> [3. 8.]\n",
      "d2.min() -> [1 6], [0 0] 원소/요소\n",
      "d2.max() -> [ 5 10], [4 4]원소/요소\n"
     ]
    }
   ],
   "source": [
    "### 대상 : 행 방향 기준 요소/원소 : 모든 컬럼을 사용해서 한개 행\n",
    "print(d2)\n",
    "\n",
    "print(f'd2.sum() -> {d2.sum(axis=1)}') #행 전체\n",
    "print(f'd2.mean() -> {d2.mean(axis=1)}')\n",
    "print(f'd2.min() -> {d2.min(axis=1)}, {d2.argmin(axis=1)} 원소/요소')\n",
    "print(f'd2.max() -> {d2.max(axis=1)}, {d2.argmax(axis=1) }원소/요소')"
   ]
  },
  {
   "cell_type": "code",
   "execution_count": 17,
   "metadata": {},
   "outputs": [
    {
     "name": "stdout",
     "output_type": "stream",
     "text": [
      "[[ 1  2  3  4  5]\n",
      " [ 6  7  8  9 10]]\n",
      "d2.sum() -> [ 7  9 11 13 15]\n",
      "d2.mean() -> [3.5 4.5 5.5 6.5 7.5]\n",
      "d2.min() -> [1 2 3 4 5], [0 0 0 0 0] 원소/요소\n",
      "d2.max() -> [ 6  7  8  9 10], [1 1 1 1 1]원소/요소\n"
     ]
    }
   ],
   "source": [
    "### 대상 : 행 방향 기준 요소/원소 : 모든 컬럼을 사용해서 한개 행\n",
    "print(d2)\n",
    "\n",
    "print(f'd2.sum() -> {d2.sum(axis=0)}') #위 아래\n",
    "print(f'd2.mean() -> {d2.mean(axis=0)}')\n",
    "print(f'd2.min() -> {d2.min(axis=0)}, {d2.argmin(axis=0)} 원소/요소')\n",
    "print(f'd2.max() -> {d2.max(axis=0)}, {d2.argmax(axis=0) }원소/요소')"
   ]
  }
 ],
 "metadata": {
  "kernelspec": {
   "display_name": "TENSOR_39",
   "language": "python",
   "name": "python3"
  },
  "language_info": {
   "codemirror_mode": {
    "name": "ipython",
    "version": 3
   },
   "file_extension": ".py",
   "mimetype": "text/x-python",
   "name": "python",
   "nbconvert_exporter": "python",
   "pygments_lexer": "ipython3",
   "version": "3.9.18"
  }
 },
 "nbformat": 4,
 "nbformat_minor": 2
}
