{
 "cells": [
  {
   "cell_type": "markdown",
   "metadata": {},
   "source": [
    "- C/Java/C# 언어\n",
    "    - 기본 데이터 타입 : 스택에 저장\n",
    "    - 확장/파생 데이터 타입 --> C : 구조체 --> OOP 클래스 : 힙 역역에 저장\n",
    "\n",
    "- Python 언어\n",
    "    - 기본 데이터 타입, 확장/파생 데이터 타입 : 객체로 힙 영역에 저장\n",
    "    - 힙 영역에 저장된 데이터를 읽거나 변경하기 위해서 객체가 저장된 주소를 스택 영역에 저장 : 변수"
   ]
  },
  {
   "cell_type": "code",
   "execution_count": null,
   "metadata": {},
   "outputs": [],
   "source": []
  }
 ],
 "metadata": {
  "kernelspec": {
   "display_name": "TENSOR_39",
   "language": "python",
   "name": "python3"
  },
  "language_info": {
   "name": "python",
   "version": "3.9.18"
  }
 },
 "nbformat": 4,
 "nbformat_minor": 2
}
