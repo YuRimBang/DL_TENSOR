{
 "cells": [
  {
   "cell_type": "code",
   "execution_count": 1,
   "metadata": {},
   "outputs": [
    {
     "name": "stdout",
     "output_type": "stream",
     "text": [
      "Hello World\n"
     ]
    }
   ],
   "source": [
    "conda install tensorflow\n",
    "conda install keras\n",
    "conda install scikit-learn\n",
    "conda install matplotlib\n",
    "conda install seaborn\n",
    "conda install pandas"
   ]
  },
  {
   "cell_type": "markdown",
   "metadata": {},
   "source": [
    "- 파이선 -> .py\n",
    "- 주피터 -> .ipynb\n",
    "\n",
    "***\n",
    "\n",
    "ESC -> 명령어 모드\n",
    "- y : Code 모드로 전환\n",
    "- m : Markdown 모드로 전환\n",
    "- a : above 위에 셀 추가\n",
    "- b : below 아래에 셀 추가\n",
    "- dd : delete 현재 셀 삭제\n",
    "\n",
    "***\n",
    "\n",
    "[실행 단축키]\n",
    "- shift + Enter -> 아래 셀 추가\n",
    "- ctrl + Enter -> 현재 셀 실행"
   ]
  },
  {
   "cell_type": "code",
   "execution_count": null,
   "metadata": {},
   "outputs": [],
   "source": []
  }
 ],
 "metadata": {
  "kernelspec": {
   "display_name": "TENSOR_39",
   "language": "python",
   "name": "python3"
  },
  "language_info": {
   "codemirror_mode": {
    "name": "ipython",
    "version": 3
   },
   "file_extension": ".py",
   "mimetype": "text/x-python",
   "name": "python",
   "nbconvert_exporter": "python",
   "pygments_lexer": "ipython3",
   "version": "3.9.18"
  }
 },
 "nbformat": 4,
 "nbformat_minor": 2
}
