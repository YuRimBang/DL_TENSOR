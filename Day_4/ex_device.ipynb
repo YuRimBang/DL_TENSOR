{
 "cells": [
  {
   "cell_type": "markdown",
   "metadata": {},
   "source": [
    "### 텐서 저장 및 실행 기기 설정\n",
    "- GPU 존재 여부 체크\n",
    "- GPU/CPU 중 저장 및 실행 위치 설정"
   ]
  },
  {
   "cell_type": "code",
   "execution_count": 14,
   "metadata": {},
   "outputs": [],
   "source": [
    "# TF 전체 패키지 로딩\n",
    "import tensorflow as tf\n",
    "# H/W 관련 패키지 로딩\n",
    "from tensorflow.python.client import device_lib\n",
    "\n",
    "# 사용자 정의 모듈\n",
    "import utils"
   ]
  },
  {
   "cell_type": "code",
   "execution_count": 15,
   "metadata": {},
   "outputs": [
    {
     "name": "stdout",
     "output_type": "stream",
     "text": [
      "현재 사용 가능한 DEVICE LIST\n",
      "name: \"/device:CPU:0\"\n",
      "device_type: \"CPU\"\n",
      "memory_limit: 268435456\n",
      "locality {\n",
      "}\n",
      "incarnation: 15315153973829257808\n",
      "xla_global_id: -1\n",
      "\n"
     ]
    }
   ],
   "source": [
    "# 현재 컴퓨팅 환경에서 CPU/GPU 리스트 추출\n",
    "device_list = device_lib.list_local_devices()\n",
    "\n",
    "print(f'현재 사용 가능한 DEVICE LIST')\n",
    "for device in device_list:\n",
    "    print(device)"
   ]
  },
  {
   "cell_type": "code",
   "execution_count": 16,
   "metadata": {},
   "outputs": [
    {
     "name": "stdout",
     "output_type": "stream",
     "text": [
      "result => \n",
      "[]\n"
     ]
    }
   ],
   "source": [
    "# 현재 시스템에서 GPU 지원 여부 체크\n",
    "result = tf.config.list_physical_devices('GPU')\n",
    "\n",
    "print(f'result => \\n{result}')"
   ]
  },
  {
   "cell_type": "code",
   "execution_count": 17,
   "metadata": {},
   "outputs": [
    {
     "name": "stdout",
     "output_type": "stream",
     "text": [
      "GPU 없음\n"
     ]
    }
   ],
   "source": [
    "if len( tf.config.list_physical_devices('GPU')):\n",
    "    print('GPU 존재')\n",
    "else:\n",
    "    print('GPU 없음')"
   ]
  },
  {
   "cell_type": "markdown",
   "metadata": {},
   "source": [
    "- GPU/CPU 기기 설정"
   ]
  },
  {
   "cell_type": "code",
   "execution_count": 18,
   "metadata": {},
   "outputs": [
    {
     "name": "stdout",
     "output_type": "stream",
     "text": [
      "DEVICE : /device:CPU:0\n"
     ]
    }
   ],
   "source": [
    "### -> with 구문\n",
    "GPU_CNT = len( tf.config.list_physical_devices('GPU'))\n",
    "DEVICE_NAME = '/device:GPU:0' if GPU_CNT else '/device:CPU:0'\n",
    "print(f'DEVICE : {DEVICE_NAME}')\n",
    "\n",
    "#현재 시스템에 따라서 CPU/GPU 사용 설정\n",
    "with tf.device(DEVICE_NAME):\n",
    "    pass"
   ]
  },
  {
   "cell_type": "markdown",
   "metadata": {},
   "source": [
    "- 외부 모듈 기능 사용 => import 필요"
   ]
  },
  {
   "cell_type": "code",
   "execution_count": 21,
   "metadata": {},
   "outputs": [
    {
     "ename": "AttributeError",
     "evalue": "module 'utils' has no attribute 'getDeviceName'",
     "output_type": "error",
     "traceback": [
      "\u001b[1;31m---------------------------------------------------------------------------\u001b[0m",
      "\u001b[1;31mAttributeError\u001b[0m                            Traceback (most recent call last)",
      "Cell \u001b[1;32mIn[21], line 2\u001b[0m\n\u001b[0;32m      1\u001b[0m \u001b[38;5;28;01mimport\u001b[39;00m \u001b[38;5;21;01mutils\u001b[39;00m\n\u001b[1;32m----> 2\u001b[0m \u001b[43mutils\u001b[49m\u001b[38;5;241;43m.\u001b[39;49m\u001b[43mgetDeviceName\u001b[49m()\n",
      "\u001b[1;31mAttributeError\u001b[0m: module 'utils' has no attribute 'getDeviceName'"
     ]
    }
   ],
   "source": [
    "import utils\n",
    "\n",
    "utils.getDeviceName()"
   ]
  }
 ],
 "metadata": {
  "kernelspec": {
   "display_name": "TENSOR_39",
   "language": "python",
   "name": "python3"
  },
  "language_info": {
   "codemirror_mode": {
    "name": "ipython",
    "version": 3
   },
   "file_extension": ".py",
   "mimetype": "text/x-python",
   "name": "python",
   "nbconvert_exporter": "python",
   "pygments_lexer": "ipython3",
   "version": "3.9.18"
  }
 },
 "nbformat": 4,
 "nbformat_minor": 2
}
