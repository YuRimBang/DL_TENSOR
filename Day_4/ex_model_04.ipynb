{
 "cells": [
  {
   "cell_type": "markdown",
   "metadata": {},
   "source": [
    "### ANN/MLP 모델 구현\n",
    "- 구성 : 전결합층(FC Layer)을 여러개로 구성\n",
    "- 학습 : 회귀, 분류, 다중 분류"
   ]
  },
  {
   "cell_type": "markdown",
   "metadata": {},
   "source": [
    "[1] 모듈 로딩 및 데이터 준비"
   ]
  },
  {
   "cell_type": "code",
   "execution_count": 19,
   "metadata": {},
   "outputs": [],
   "source": [
    "import tensorflow as tf\n",
    "import numpy as np\n",
    "import pandas as pd"
   ]
  },
  {
   "cell_type": "code",
   "execution_count": 20,
   "metadata": {},
   "outputs": [
    {
     "data": {
      "text/html": [
       "<div>\n",
       "<style scoped>\n",
       "    .dataframe tbody tr th:only-of-type {\n",
       "        vertical-align: middle;\n",
       "    }\n",
       "\n",
       "    .dataframe tbody tr th {\n",
       "        vertical-align: top;\n",
       "    }\n",
       "\n",
       "    .dataframe thead th {\n",
       "        text-align: right;\n",
       "    }\n",
       "</style>\n",
       "<table border=\"1\" class=\"dataframe\">\n",
       "  <thead>\n",
       "    <tr style=\"text-align: right;\">\n",
       "      <th></th>\n",
       "      <th>0</th>\n",
       "      <th>1</th>\n",
       "      <th>2</th>\n",
       "      <th>3</th>\n",
       "    </tr>\n",
       "  </thead>\n",
       "  <tbody>\n",
       "    <tr>\n",
       "      <th>0</th>\n",
       "      <td>5.1</td>\n",
       "      <td>3.5</td>\n",
       "      <td>1.4</td>\n",
       "      <td>0.2</td>\n",
       "    </tr>\n",
       "    <tr>\n",
       "      <th>1</th>\n",
       "      <td>4.9</td>\n",
       "      <td>3.0</td>\n",
       "      <td>1.4</td>\n",
       "      <td>0.2</td>\n",
       "    </tr>\n",
       "    <tr>\n",
       "      <th>2</th>\n",
       "      <td>4.7</td>\n",
       "      <td>3.2</td>\n",
       "      <td>1.3</td>\n",
       "      <td>0.2</td>\n",
       "    </tr>\n",
       "    <tr>\n",
       "      <th>3</th>\n",
       "      <td>4.6</td>\n",
       "      <td>3.1</td>\n",
       "      <td>1.5</td>\n",
       "      <td>0.2</td>\n",
       "    </tr>\n",
       "    <tr>\n",
       "      <th>4</th>\n",
       "      <td>5.0</td>\n",
       "      <td>3.6</td>\n",
       "      <td>1.4</td>\n",
       "      <td>0.2</td>\n",
       "    </tr>\n",
       "  </tbody>\n",
       "</table>\n",
       "</div>"
      ],
      "text/plain": [
       "     0    1    2    3\n",
       "0  5.1  3.5  1.4  0.2\n",
       "1  4.9  3.0  1.4  0.2\n",
       "2  4.7  3.2  1.3  0.2\n",
       "3  4.6  3.1  1.5  0.2\n",
       "4  5.0  3.6  1.4  0.2"
      ]
     },
     "execution_count": 20,
     "metadata": {},
     "output_type": "execute_result"
    }
   ],
   "source": [
    "### 데이터 준비\n",
    "DATA_FILE='./iris.csv'\n",
    "\n",
    "### 데이터 로딩\n",
    "### Header 파라미터 : 데이터 파일의 첫번째 줄이 컬럼명 여부 체크\n",
    "### usecols 파라미터 : 로딩하고 싶은 컬럼 지정\n",
    "iris_DF = pd.read_csv(DATA_FILE, header=None, usecols=[0,1,2,3])\n",
    "iris_DF.head(5)"
   ]
  },
  {
   "cell_type": "markdown",
   "metadata": {},
   "source": [
    "[2] 모델 클래스 설계 및 정의\n",
    "- 전결합층 클래스 => DenseModel\n",
    "- 컬렉션 클래스 => SeqenceModel"
   ]
  },
  {
   "cell_type": "code",
   "execution_count": 21,
   "metadata": {},
   "outputs": [],
   "source": [
    "### 전결합층 클래스 \n",
    "\n",
    "class DenseModel(tf.Module):\n",
    "    def __init__(self, input_nums, out_nums):\n",
    "        super().__init__()\n",
    "        self.W = tf.Variable(tf.random.normal((input_nums, out_nums)))\n",
    "        self.b = tf.Variable(tf.zeros((out_nums)))\n",
    "    \n",
    "    def __call__(self, input):\n",
    "        wbsum = tf.matmul(input, self.W) + self.b\n",
    "\n",
    "        return wbsum"
   ]
  },
  {
   "cell_type": "code",
   "execution_count": 30,
   "metadata": {},
   "outputs": [],
   "source": [
    "### -------------------------------------------------------\n",
    "### 컬렉션 클래스\n",
    "### 클래스 목적 : 모델의 층 구성 클래스\n",
    "### 클래스 이름 : SequenceModel\n",
    "### 클래스 속성 : in_layer, d_layer, out_layer\n",
    "### 클래스 기능 : 층별 학습 진행 후 결과 전달 즉, 전방향 학습 기능\n",
    "### -------------------------------------------------------\n",
    "\n",
    "class SequenceModel(tf.Module):\n",
    "    #인스턴스 생성 메서드\n",
    "    def __init__(self, in_nums, out_nums, kind='reg'):\n",
    "        super().__init__()\n",
    "        self.kind = kind\n",
    "        \n",
    "        #입력층 : 피쳐개수, 퍼셉트론개수\n",
    "        self.in_layer = DenseModel(in_nums, in_nums*2)\n",
    "\n",
    "        #은닉층 : 피쳐개수, 퍼셉트론개수\n",
    "        self.hd_layer = DenseModel(in_nums*2, in_nums)\n",
    "        \n",
    "        #출력층 : 피쳐개수, 타켓개수\n",
    "        self.out_layer = DenseModel(in_nums,out_nums)\n",
    "\n",
    "    # 순방향/전방향 학습 메서드\n",
    "    def __call__(self, data):\n",
    "        #입력층 학습\n",
    "        wbsum = self.in_layer(data)\n",
    "        output = tf.nn.relu(wbsum)\n",
    "\n",
    "        #은닉층 학습\n",
    "        wbsum = self.hd_layer(output)\n",
    "        output = tf.nn.relu(wbsum)\n",
    "\n",
    "        #출력층 학습\n",
    "        if self.kind=='reg':\n",
    "            return self.out_layer(output)\n",
    "        elif self.kind == 'binary':\n",
    "            return tf.nn.sigmoid(self.out_layer(output))\n",
    "        elif self.kind == 'multi':\n",
    "            return tf.nn.softmax(self.out_layer(output))\n",
    "        else:\n",
    "            return 'unknown'"
   ]
  },
  {
   "cell_type": "markdown",
   "metadata": {},
   "source": [
    "[3] 학습 준비\n",
    "- 데이터셋 -> 피쳐와 타켓 분리\n",
    "- 인스턴스/객체 -> 모델 인스턴스, 최적화 인스턴스, 손실함수 인스턴스\n",
    "- 학습 관련 함수들 -> 학습 함수, 검증함수, 예측함수"
   ]
  },
  {
   "cell_type": "markdown",
   "metadata": {},
   "source": [
    "[3-1] 피쳐와 타켓 데이터셋 분리"
   ]
  },
  {
   "cell_type": "code",
   "execution_count": 23,
   "metadata": {},
   "outputs": [
    {
     "name": "stdout",
     "output_type": "stream",
     "text": [
      "feature_NP shape -> (150, 3), target_NP shape -> (150, 1)\n"
     ]
    }
   ],
   "source": [
    "### 텐서화 - 변경불가 데이터 즉, tf.constant()\n",
    "# DataFrame -> Numpy ndarray\n",
    "feature_NP = iris_DF[ iris_DF.columns[:-1] ].values\n",
    "target_NP = iris_DF[ iris_DF.columns[-1:] ].values\n",
    "\n",
    "print(f'feature_NP shape -> {feature_NP.shape}, target_NP shape -> {target_NP.shape}')"
   ]
  },
  {
   "cell_type": "code",
   "execution_count": 24,
   "metadata": {},
   "outputs": [
    {
     "name": "stdout",
     "output_type": "stream",
     "text": [
      "feature_TS shape -> (150, 3), target_TS shape -> (150, 1)\n"
     ]
    }
   ],
   "source": [
    "#Numpy ndarray --> Tensor\n",
    "feature_TS = tf.constant(feature_NP, dtype=tf.float32)\n",
    "target_TS = tf.constant(target_NP, dtype=tf.float32)\n",
    "\n",
    "print(f'feature_TS shape -> {feature_NP.shape}, target_TS shape -> {target_NP.shape}')"
   ]
  },
  {
   "cell_type": "markdown",
   "metadata": {},
   "source": [
    "[3-2] 모델 인스턴스 생성"
   ]
  },
  {
   "cell_type": "code",
   "execution_count": 25,
   "metadata": {},
   "outputs": [
    {
     "name": "stdout",
     "output_type": "stream",
     "text": [
      "IN_NUMS -> 3, OUT_NUMS -> 1\n"
     ]
    }
   ],
   "source": [
    "# 입력 피쳐 수와 츨력 층 퍼셉트론 수 즉, 타겟 수\n",
    "IN_NUMS, OUT_NUMS = feature_TS.shape[1], target_TS.shape[1]\n",
    "\n",
    "print(f'IN_NUMS -> {IN_NUMS}, OUT_NUMS -> {OUT_NUMS}')"
   ]
  },
  {
   "cell_type": "code",
   "execution_count": 32,
   "metadata": {},
   "outputs": [],
   "source": [
    "# 모델 인스턴스 생성\n",
    "iris_Model = SequenceModel(IN_NUMS, OUT_NUMS)"
   ]
  },
  {
   "cell_type": "code",
   "execution_count": 33,
   "metadata": {},
   "outputs": [
    {
     "name": "stdout",
     "output_type": "stream",
     "text": [
      "[[2.4062881]\n",
      " [2.3229363]\n",
      " [2.2231696]\n",
      " [2.3580801]\n",
      " [2.3970733]\n",
      " [2.742866 ]\n",
      " [2.3045666]\n",
      " [2.4598613]\n",
      " [2.2212148]\n",
      " [2.4135482]\n",
      " [2.5616426]\n",
      " [2.5042198]\n",
      " [2.3044472]\n",
      " [1.967989 ]\n",
      " [2.4194126]\n",
      " [2.6820326]\n",
      " [2.4175174]\n",
      " [2.4062881]\n",
      " [2.7890594]\n",
      " [2.515449 ]\n",
      " [2.696493 ]\n",
      " [2.5061743]\n",
      " [1.9977673]\n",
      " [2.6317503]\n",
      " [2.7482307]\n",
      " [2.5041003]\n",
      " [2.5411983]\n",
      " [2.5061145]\n",
      " [2.415503 ]\n",
      " [2.467181 ]\n",
      " [2.4763958]\n",
      " [2.533819 ]\n",
      " [2.5617619]\n",
      " [2.5451677]\n",
      " [2.4135482]\n",
      " [2.1973007]\n",
      " [2.3989086]\n",
      " [2.4135482]\n",
      " [2.1491525]\n",
      " [2.4783509]\n",
      " [2.3064616]\n",
      " [2.1027198]\n",
      " [2.1677015]\n",
      " [2.550473 ]\n",
      " [2.8407972]\n",
      " [2.3044472]\n",
      " [2.596786 ]\n",
      " [2.2860174]\n",
      " [2.543153 ]\n",
      " [2.3692496]\n",
      " [5.4138856]\n",
      " [5.140275 ]\n",
      " [5.5487967]\n",
      " [4.483715 ]\n",
      " [5.2030034]\n",
      " [4.973752 ]\n",
      " [5.293735 ]\n",
      " [3.812693 ]\n",
      " [5.2307677]\n",
      " [4.384008 ]\n",
      " [3.956759 ]\n",
      " [4.785268 ]\n",
      " [4.566887 ]\n",
      " [5.219658 ]\n",
      " [4.2325025]\n",
      " [5.1051326]\n",
      " [4.973811 ]\n",
      " [4.657618 ]\n",
      " [5.0105515]\n",
      " [4.439416 ]\n",
      " [5.2918396]\n",
      " [4.641024 ]\n",
      " [5.3822126]\n",
      " [5.210383 ]\n",
      " [4.9497786]\n",
      " [5.0773683]\n",
      " [5.4211464]\n",
      " [5.58388  ]\n",
      " [5.0384946]\n",
      " [4.141832 ]\n",
      " [4.330315 ]\n",
      " [4.2489777]\n",
      " [4.494944 ]\n",
      " [5.5079675]\n",
      " [4.936833 ]\n",
      " [5.0848675]\n",
      " [5.3491426]\n",
      " [4.956978 ]\n",
      " [4.6484632]\n",
      " [4.502264 ]\n",
      " [4.8368864]\n",
      " [5.1475954]\n",
      " [4.5670066]\n",
      " [3.821908 ]\n",
      " [4.701976 ]\n",
      " [4.748289 ]\n",
      " [4.7390146]\n",
      " [4.9127994]\n",
      " [3.6149354]\n",
      " [4.648403 ]\n",
      " [6.351116 ]\n",
      " [5.4709883]\n",
      " [6.389871 ]\n",
      " [5.98867  ]\n",
      " [6.197598 ]\n",
      " [7.0516768]\n",
      " [4.7980127]\n",
      " [6.742924 ]\n",
      " [6.1882033]\n",
      " [6.626682 ]\n",
      " [5.646787 ]\n",
      " [5.744599 ]\n",
      " [6.009055 ]\n",
      " [5.352613 ]\n",
      " [5.4802637]\n",
      " [5.7909718]\n",
      " [5.9535866]\n",
      " [7.225701 ]\n",
      " [7.2770805]\n",
      " [5.3802576]\n",
      " [6.208767 ]\n",
      " [5.28061  ]\n",
      " [7.1329546]\n",
      " [5.4007616]\n",
      " [6.1810627]\n",
      " [6.5082464]\n",
      " [5.3102098]\n",
      " [5.3916063]\n",
      " [5.997885 ]\n",
      " [6.3270235]\n",
      " [6.5894637]\n",
      " [7.018668 ]\n",
      " [5.997885 ]\n",
      " [5.5727105]\n",
      " [5.9238677]\n",
      " [6.663482 ]\n",
      " [6.035043 ]\n",
      " [5.9443717]\n",
      " [5.29178  ]\n",
      " [5.955482 ]\n",
      " [6.0811768]\n",
      " [5.7114706]\n",
      " [5.4709883]\n",
      " [6.3529515]\n",
      " [6.1810627]\n",
      " [5.7465534]\n",
      " [5.4635496]\n",
      " [5.709575 ]\n",
      " [5.8538795]\n",
      " [5.5173016]]\n"
     ]
    }
   ],
   "source": [
    "# 테스트\n",
    "y_pre = iris_Model(feature_TS)\n",
    "\n",
    "print(f'{y_pre}')"
   ]
  }
 ],
 "metadata": {
  "kernelspec": {
   "display_name": "TENSOR_39",
   "language": "python",
   "name": "python3"
  },
  "language_info": {
   "codemirror_mode": {
    "name": "ipython",
    "version": 3
   },
   "file_extension": ".py",
   "mimetype": "text/x-python",
   "name": "python",
   "nbconvert_exporter": "python",
   "pygments_lexer": "ipython3",
   "version": "3.9.18"
  }
 },
 "nbformat": 4,
 "nbformat_minor": 2
}
