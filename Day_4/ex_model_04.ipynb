{
 "cells": [
  {
   "cell_type": "markdown",
   "metadata": {},
   "source": [
    "### ANN\n",
    "- \n",
    "- 구성 : 전결합층(FC Layer)을 컬렉션(시퀀스)으로 구성\n",
    "- 학습 : 회귀"
   ]
  },
  {
   "cell_type": "markdown",
   "metadata": {},
   "source": [
    "[1] 모듈 로딩 및 데이터 준비"
   ]
  },
  {
   "cell_type": "code",
   "execution_count": 4,
   "metadata": {},
   "outputs": [],
   "source": [
    "import tensorflow as tf\n",
    "import numpy as np\n",
    "import pandas as pd"
   ]
  },
  {
   "cell_type": "code",
   "execution_count": 13,
   "metadata": {},
   "outputs": [
    {
     "data": {
      "text/html": [
       "<div>\n",
       "<style scoped>\n",
       "    .dataframe tbody tr th:only-of-type {\n",
       "        vertical-align: middle;\n",
       "    }\n",
       "\n",
       "    .dataframe tbody tr th {\n",
       "        vertical-align: top;\n",
       "    }\n",
       "\n",
       "    .dataframe thead th {\n",
       "        text-align: right;\n",
       "    }\n",
       "</style>\n",
       "<table border=\"1\" class=\"dataframe\">\n",
       "  <thead>\n",
       "    <tr style=\"text-align: right;\">\n",
       "      <th></th>\n",
       "      <th>0</th>\n",
       "      <th>1</th>\n",
       "      <th>2</th>\n",
       "      <th>3</th>\n",
       "    </tr>\n",
       "  </thead>\n",
       "  <tbody>\n",
       "    <tr>\n",
       "      <th>0</th>\n",
       "      <td>5.1</td>\n",
       "      <td>3.5</td>\n",
       "      <td>1.4</td>\n",
       "      <td>0.2</td>\n",
       "    </tr>\n",
       "    <tr>\n",
       "      <th>1</th>\n",
       "      <td>4.9</td>\n",
       "      <td>3.0</td>\n",
       "      <td>1.4</td>\n",
       "      <td>0.2</td>\n",
       "    </tr>\n",
       "    <tr>\n",
       "      <th>2</th>\n",
       "      <td>4.7</td>\n",
       "      <td>3.2</td>\n",
       "      <td>1.3</td>\n",
       "      <td>0.2</td>\n",
       "    </tr>\n",
       "    <tr>\n",
       "      <th>3</th>\n",
       "      <td>4.6</td>\n",
       "      <td>3.1</td>\n",
       "      <td>1.5</td>\n",
       "      <td>0.2</td>\n",
       "    </tr>\n",
       "    <tr>\n",
       "      <th>4</th>\n",
       "      <td>5.0</td>\n",
       "      <td>3.6</td>\n",
       "      <td>1.4</td>\n",
       "      <td>0.2</td>\n",
       "    </tr>\n",
       "  </tbody>\n",
       "</table>\n",
       "</div>"
      ],
      "text/plain": [
       "     0    1    2    3\n",
       "0  5.1  3.5  1.4  0.2\n",
       "1  4.9  3.0  1.4  0.2\n",
       "2  4.7  3.2  1.3  0.2\n",
       "3  4.6  3.1  1.5  0.2\n",
       "4  5.0  3.6  1.4  0.2"
      ]
     },
     "execution_count": 13,
     "metadata": {},
     "output_type": "execute_result"
    }
   ],
   "source": [
    "### 데이터 준비\n",
    "DATA_FILE='./iris.csv'\n",
    "\n",
    "### 데이터 로딩\n",
    "### Header 파라미터 : 데이터 파일의 첫번째 줄이 컬럼명 여부 체크\n",
    "### usecols 파라미터 : 로딩하고 싶은 컬럼 지정\n",
    "iris_DF = pd.read_csv(DATA_FILE, header=None, usecols=[0,1,2,3])\n",
    "iris_DF.head(5)"
   ]
  },
  {
   "cell_type": "markdown",
   "metadata": {},
   "source": [
    "[2] 모델 클래스 설계 및 정의\n",
    "- 전결합층 클래스 => DenseModel\n",
    "- 컬렉션 클래스 => SeqenceModel"
   ]
  },
  {
   "cell_type": "code",
   "execution_count": 6,
   "metadata": {},
   "outputs": [],
   "source": [
    "### 전결합층 클래스 \n",
    "\n",
    "class DenseModel(tf.Module):\n",
    "    def __init__(self, input_nums, out_nums):\n",
    "        super().__init__()\n",
    "        self.W = tf.Variable(tf.random.normal((input_nums, out_nums)))\n",
    "        self.b = tf.Variable(tf.zeros((out_nums)))\n",
    "    \n",
    "    def __call__(self, input):\n",
    "        wbsum = tf.matmul(input, self.W) + self.b\n",
    "\n",
    "        return wbsum"
   ]
  },
  {
   "cell_type": "code",
   "execution_count": 7,
   "metadata": {},
   "outputs": [],
   "source": [
    "### -------------------------------------------------------\n",
    "### 컬렉션 클래스\n",
    "### 클래스 목적 : 모델의 층 구성 클래스\n",
    "### 클래스 이름 : SequenceModel\n",
    "### 클래스 속성 : in_layer, d_layer, out_layer\n",
    "### 클래스 기능 : 층별 학습 진행 후 결과 전달 즉, 전방향 학습 기능\n",
    "### -------------------------------------------------------\n",
    "\n",
    "class SequenceModel(tf.Module):\n",
    "    #인스턴스 생성 메서드\n",
    "    def __init__(self, in_nums, out_nums):\n",
    "        super().__init__()\n",
    "        \n",
    "        #입력층 : 피쳐개수, 퍼셉트론개수\n",
    "        self.in_layer = DenseModel(in_nums, in_nums*2)\n",
    "\n",
    "        #은닉층 : 피쳐개수, 퍼셉트론개수\n",
    "        self.hd_layer = DenseModel(in_nums, in_nums*2, in_nums)\n",
    "        \n",
    "        #출력층 : 피쳐개수, 타켓개수\n",
    "        self.out_layer = DenseModel(in_nums,out_nums)\n",
    "\n",
    "    # 순방향/전방향 학습 메서드\n",
    "    def __call__(self, data):\n",
    "        #입력층 학습\n",
    "        wbsum = self.in_layer(data)\n",
    "        output = tf.nn.relu(wbsum)\n",
    "\n",
    "        #은닉층 학습\n",
    "        wbsum = self.hd_layer(output)\n",
    "        output = tf.nn.relu(wbsum)\n",
    "\n",
    "        #출력층 학습\n",
    "        wbsum = self.hd_layer(output)\n",
    "\n",
    "        return wbsum"
   ]
  },
  {
   "cell_type": "markdown",
   "metadata": {},
   "source": [
    "[3] 학습 준비\n",
    "- 데이터셋 -> 피쳐와 타켓 분리\n",
    "- 인스턴스/객체 -> 모델 인스턴스, 최적화 인스턴스, 손실함수 인스턴스\n",
    "- 학습 관련 함수들 -> 학습 함수, 검증함수, 예측함수"
   ]
  },
  {
   "cell_type": "markdown",
   "metadata": {},
   "source": [
    "[3-1] 피쳐와 타켓 데이터셋 분리"
   ]
  },
  {
   "cell_type": "code",
   "execution_count": 14,
   "metadata": {},
   "outputs": [
    {
     "name": "stdout",
     "output_type": "stream",
     "text": [
      "feature_NP shape -> (150, 3), target_NP shape -> (150, 1)\n"
     ]
    }
   ],
   "source": [
    "### 텐서화 - 변경불가 데이터 즉, tf.constant()\n",
    "feature_NP = iris_DF[ iris_DF.columns[:-1] ].values\n",
    "target_NP = iris_DF[ iris_DF.columns[-1:] ].values\n",
    "\n",
    "print(f'feature_NP shape -> {feature_NP.shape}, target_NP shape -> {target_NP.shape}')"
   ]
  }
 ],
 "metadata": {
  "kernelspec": {
   "display_name": "TENSOR_39",
   "language": "python",
   "name": "python3"
  },
  "language_info": {
   "codemirror_mode": {
    "name": "ipython",
    "version": 3
   },
   "file_extension": ".py",
   "mimetype": "text/x-python",
   "name": "python",
   "nbconvert_exporter": "python",
   "pygments_lexer": "ipython3",
   "version": "3.9.18"
  }
 },
 "nbformat": 4,
 "nbformat_minor": 2
}
