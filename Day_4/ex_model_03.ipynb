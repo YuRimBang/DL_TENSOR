{
 "cells": [
  {
   "cell_type": "markdown",
   "metadata": {},
   "source": [
    "### ANN/MLP 모델 구현\n",
    "- 구성 : 전결합층(FC Layer)을 여러개로 구성\n",
    "- 학습 : 회귀"
   ]
  },
  {
   "cell_type": "markdown",
   "metadata": {},
   "source": [
    "[1] 모듈 로딩 및 데이터 준비"
   ]
  },
  {
   "cell_type": "code",
   "execution_count": 24,
   "metadata": {},
   "outputs": [],
   "source": [
    "import tensorflow as tf\n",
    "import numpy as np\n",
    "import pandas as pd"
   ]
  },
  {
   "cell_type": "code",
   "execution_count": 25,
   "metadata": {},
   "outputs": [
    {
     "data": {
      "text/html": [
       "<div>\n",
       "<style scoped>\n",
       "    .dataframe tbody tr th:only-of-type {\n",
       "        vertical-align: middle;\n",
       "    }\n",
       "\n",
       "    .dataframe tbody tr th {\n",
       "        vertical-align: top;\n",
       "    }\n",
       "\n",
       "    .dataframe thead th {\n",
       "        text-align: right;\n",
       "    }\n",
       "</style>\n",
       "<table border=\"1\" class=\"dataframe\">\n",
       "  <thead>\n",
       "    <tr style=\"text-align: right;\">\n",
       "      <th></th>\n",
       "      <th>0</th>\n",
       "      <th>1</th>\n",
       "      <th>2</th>\n",
       "      <th>3</th>\n",
       "    </tr>\n",
       "  </thead>\n",
       "  <tbody>\n",
       "    <tr>\n",
       "      <th>0</th>\n",
       "      <td>5.1</td>\n",
       "      <td>3.5</td>\n",
       "      <td>1.4</td>\n",
       "      <td>0.2</td>\n",
       "    </tr>\n",
       "    <tr>\n",
       "      <th>1</th>\n",
       "      <td>4.9</td>\n",
       "      <td>3.0</td>\n",
       "      <td>1.4</td>\n",
       "      <td>0.2</td>\n",
       "    </tr>\n",
       "    <tr>\n",
       "      <th>2</th>\n",
       "      <td>4.7</td>\n",
       "      <td>3.2</td>\n",
       "      <td>1.3</td>\n",
       "      <td>0.2</td>\n",
       "    </tr>\n",
       "    <tr>\n",
       "      <th>3</th>\n",
       "      <td>4.6</td>\n",
       "      <td>3.1</td>\n",
       "      <td>1.5</td>\n",
       "      <td>0.2</td>\n",
       "    </tr>\n",
       "    <tr>\n",
       "      <th>4</th>\n",
       "      <td>5.0</td>\n",
       "      <td>3.6</td>\n",
       "      <td>1.4</td>\n",
       "      <td>0.2</td>\n",
       "    </tr>\n",
       "  </tbody>\n",
       "</table>\n",
       "</div>"
      ],
      "text/plain": [
       "     0    1    2    3\n",
       "0  5.1  3.5  1.4  0.2\n",
       "1  4.9  3.0  1.4  0.2\n",
       "2  4.7  3.2  1.3  0.2\n",
       "3  4.6  3.1  1.5  0.2\n",
       "4  5.0  3.6  1.4  0.2"
      ]
     },
     "execution_count": 25,
     "metadata": {},
     "output_type": "execute_result"
    }
   ],
   "source": [
    "### 데이터 준비\n",
    "DATA_FILE='./iris.csv'\n",
    "\n",
    "### 데이터 로딩\n",
    "### Header 파라미터 : 데이터 파일의 첫번째 줄이 컬럼명 여부 체크\n",
    "### usecols 파라미터 : 로딩하고 싶은 컬럼 지정\n",
    "iris_DF = pd.read_csv(DATA_FILE, header=None, usecols=[0,1,2,3])\n",
    "iris_DF.head(5)"
   ]
  },
  {
   "cell_type": "markdown",
   "metadata": {},
   "source": [
    "[2] 모델 클래스 설계 및 정의\n",
    "- 전결합층 클래스 => DenseModel\n",
    "- 컬렉션 클래스 => SeqenceModel"
   ]
  },
  {
   "cell_type": "code",
   "execution_count": 26,
   "metadata": {},
   "outputs": [],
   "source": [
    "### 전결합층 클래스 \n",
    "\n",
    "class DenseModel(tf.Module):\n",
    "    def __init__(self, input_nums, out_nums):\n",
    "        super().__init__()\n",
    "        self.W = tf.Variable(tf.random.normal((input_nums, out_nums)))\n",
    "        self.b = tf.Variable(tf.zeros((out_nums)))\n",
    "    \n",
    "    def __call__(self, input):\n",
    "        wbsum = tf.matmul(input, self.W) + self.b\n",
    "\n",
    "        return wbsum"
   ]
  },
  {
   "cell_type": "code",
   "execution_count": 27,
   "metadata": {},
   "outputs": [],
   "source": [
    "### -------------------------------------------------------\n",
    "### 컬렉션 클래스\n",
    "### 클래스 목적 : 모델의 층 구성 클래스\n",
    "### 클래스 이름 : SequenceModel\n",
    "### 클래스 속성 : in_layer, d_layer, out_layer\n",
    "### 클래스 기능 : 층별 학습 진행 후 결과 전달 즉, 전방향 학습 기능\n",
    "### -------------------------------------------------------\n",
    "\n",
    "class SequenceModel(tf.Module):\n",
    "    #인스턴스 생성 메서드\n",
    "    def __init__(self, in_nums, out_nums):\n",
    "        super().__init__()\n",
    "        \n",
    "        #입력층 : 피쳐개수, 퍼셉트론개수\n",
    "        self.in_layer = DenseModel(in_nums, in_nums*2)\n",
    "\n",
    "        #은닉층 : 피쳐개수, 퍼셉트론개수\n",
    "        self.hd_layer = DenseModel(in_nums*2, in_nums)\n",
    "        \n",
    "        #출력층 : 피쳐개수, 타켓개수\n",
    "        self.out_layer = DenseModel(in_nums,out_nums)\n",
    "\n",
    "    # 순방향/전방향 학습 메서드\n",
    "    def __call__(self, data):\n",
    "        #입력층 학습\n",
    "        wbsum = self.in_layer(data)\n",
    "        output = tf.nn.relu(wbsum)\n",
    "\n",
    "        #은닉층 학습\n",
    "        wbsum = self.hd_layer(output)\n",
    "        output = tf.nn.relu(wbsum)\n",
    "\n",
    "        #출력층 학습\n",
    "        wbsum = self.out_layer(output)\n",
    "\n",
    "        return wbsum"
   ]
  },
  {
   "cell_type": "markdown",
   "metadata": {},
   "source": [
    "[3] 학습 준비\n",
    "- 데이터셋 -> 피쳐와 타켓 분리\n",
    "- 인스턴스/객체 -> 모델 인스턴스, 최적화 인스턴스, 손실함수 인스턴스\n",
    "- 학습 관련 함수들 -> 학습 함수, 검증함수, 예측함수"
   ]
  },
  {
   "cell_type": "markdown",
   "metadata": {},
   "source": [
    "[3-1] 피쳐와 타켓 데이터셋 분리"
   ]
  },
  {
   "cell_type": "code",
   "execution_count": 33,
   "metadata": {},
   "outputs": [
    {
     "name": "stdout",
     "output_type": "stream",
     "text": [
      "feature_NP shape -> (150, 3), target_NP shape -> (150, 1)\n"
     ]
    }
   ],
   "source": [
    "### 텐서화 - 변경불가 데이터 즉, tf.constant()\n",
    "# DataFrame -> Numpy ndarray\n",
    "feature_NP = iris_DF[ iris_DF.columns[:-1] ].values\n",
    "target_NP = iris_DF[ iris_DF.columns[-1:] ].values #1\n",
    "\n",
    "print(f'feature_NP shape -> {feature_NP.shape}, target_NP shape -> {target_NP.shape}')"
   ]
  },
  {
   "cell_type": "code",
   "execution_count": 34,
   "metadata": {},
   "outputs": [
    {
     "name": "stdout",
     "output_type": "stream",
     "text": [
      "feature_TS shape -> (150, 3), target_TS shape -> (150, 1)\n"
     ]
    }
   ],
   "source": [
    "#Numpy ndarray --> Tensor\n",
    "feature_TS = tf.constant(feature_NP, dtype=tf.float32)\n",
    "target_TS = tf.constant(target_NP, dtype=tf.float32)\n",
    "\n",
    "print(f'feature_TS shape -> {feature_NP.shape}, target_TS shape -> {target_NP.shape}')"
   ]
  },
  {
   "cell_type": "markdown",
   "metadata": {},
   "source": [
    "[3-2] 모델 인스턴스 생성"
   ]
  },
  {
   "cell_type": "code",
   "execution_count": 35,
   "metadata": {},
   "outputs": [
    {
     "name": "stdout",
     "output_type": "stream",
     "text": [
      "IN_NUMS -> 3, OUT_NUMS -> 1\n"
     ]
    }
   ],
   "source": [
    "# 입력 피쳐 수와 츨력 층 퍼셉트론 수 즉, 타겟 수\n",
    "IN_NUMS, OUT_NUMS = feature_TS.shape[1], target_TS.shape[1]\n",
    "\n",
    "print(f'IN_NUMS -> {IN_NUMS}, OUT_NUMS -> {OUT_NUMS}')"
   ]
  },
  {
   "cell_type": "code",
   "execution_count": 36,
   "metadata": {},
   "outputs": [],
   "source": [
    "# 모델 인스턴스 생성\n",
    "iris_Model = SequenceModel(IN_NUMS, OUT_NUMS)"
   ]
  },
  {
   "cell_type": "code",
   "execution_count": 37,
   "metadata": {},
   "outputs": [
    {
     "name": "stdout",
     "output_type": "stream",
     "text": [
      "[[-0.8403568 ]\n",
      " [-1.4833374 ]\n",
      " [-0.8247688 ]\n",
      " [-0.97252965]\n",
      " [-0.534822  ]\n",
      " [-0.6454053 ]\n",
      " [-0.38758206]\n",
      " [-0.94061995]\n",
      " [-1.0305622 ]\n",
      " [-1.3516853 ]\n",
      " [-0.90871   ]\n",
      " [-0.7353482 ]\n",
      " [-1.3569522 ]\n",
      " [-0.58253336]\n",
      " [-0.7343075 ]\n",
      " [-0.03381538]\n",
      " [-0.45541382]\n",
      " [-0.8403568 ]\n",
      " [-1.2037115 ]\n",
      " [-0.35040522]\n",
      " [-1.5411563 ]\n",
      " [-0.52955484]\n",
      " [ 0.16070914]\n",
      " [-1.3411508 ]\n",
      " [-0.8778422 ]\n",
      " [-1.7047172 ]\n",
      " [-0.9881177 ]\n",
      " [-1.0142393 ]\n",
      " [-1.1458924 ]\n",
      " [-0.967262  ]\n",
      " [-1.2727976 ]\n",
      " [-1.4461601 ]\n",
      " [ 0.06066036]\n",
      " [-0.0918479 ]\n",
      " [-1.3516853 ]\n",
      " [-1.1564264 ]\n",
      " [-1.2983999 ]\n",
      " [-1.3516853 ]\n",
      " [-0.8039143 ]\n",
      " [-1.0670052 ]\n",
      " [-0.66647387]\n",
      " [-2.184349  ]\n",
      " [-0.44561434]\n",
      " [-0.80896735]\n",
      " [-0.5403967 ]\n",
      " [-1.3569522 ]\n",
      " [-0.39790297]\n",
      " [-0.74588203]\n",
      " [-0.78232574]\n",
      " [-1.0722718 ]\n",
      " [-4.87186   ]\n",
      " [-4.190056  ]\n",
      " [-4.8993673 ]\n",
      " [-4.102211  ]\n",
      " [-4.741869  ]\n",
      " [-3.857099  ]\n",
      " [-4.0033326 ]\n",
      " [-3.240377  ]\n",
      " [-4.7435284 ]\n",
      " [-3.33285   ]\n",
      " [-3.8067737 ]\n",
      " [-3.8166685 ]\n",
      " [-4.7531924 ]\n",
      " [-4.2142425 ]\n",
      " [-3.5099664 ]\n",
      " [-4.6089063 ]\n",
      " [-3.5340967 ]\n",
      " [-4.0146556 ]\n",
      " [-5.0436535 ]\n",
      " [-3.982172  ]\n",
      " [-3.6899376 ]\n",
      " [-4.2192783 ]\n",
      " [-4.8894157 ]\n",
      " [-4.3213573 ]\n",
      " [-4.4822335 ]\n",
      " [-4.607247  ]\n",
      " [-5.0973544 ]\n",
      " [-4.8035183 ]\n",
      " [-4.076305  ]\n",
      " [-3.9255    ]\n",
      " [-3.9659324 ]\n",
      " [-3.9513483 ]\n",
      " [-3.9854908 ]\n",
      " [-4.3780317 ]\n",
      " [-3.3165512 ]\n",
      " [-3.5407324 ]\n",
      " [-4.6526556 ]\n",
      " [-5.03073   ]\n",
      " [-3.4757648 ]\n",
      " [-3.8879828 ]\n",
      " [-3.8391986 ]\n",
      " [-4.092545  ]\n",
      " [-4.1071877 ]\n",
      " [-3.456264  ]\n",
      " [-3.8116908 ]\n",
      " [-3.599122  ]\n",
      " [-3.706236  ]\n",
      " [-4.264686  ]\n",
      " [-3.307061  ]\n",
      " [-3.798768  ]\n",
      " [-4.19291   ]\n",
      " [-4.160484  ]\n",
      " [-5.3698564 ]\n",
      " [-4.563037  ]\n",
      " [-4.702633  ]\n",
      " [-6.0158024 ]\n",
      " [-3.3082566 ]\n",
      " [-5.7528505 ]\n",
      " [-5.455753  ]\n",
      " [-4.8651085 ]\n",
      " [-4.386325  ]\n",
      " [-4.8422904 ]\n",
      " [-4.985206  ]\n",
      " [-4.251357  ]\n",
      " [-4.05337   ]\n",
      " [-4.3067174 ]\n",
      " [-4.6588855 ]\n",
      " [-5.2822437 ]\n",
      " [-6.5967827 ]\n",
      " [-4.89902   ]\n",
      " [-4.908914  ]\n",
      " [-3.8066578 ]\n",
      " [-6.3533897 ]\n",
      " [-4.6751847 ]\n",
      " [-4.5842533 ]\n",
      " [-5.278984  ]\n",
      " [-4.4447155 ]\n",
      " [-4.1362944 ]\n",
      " [-4.7789245 ]\n",
      " [-5.4640465 ]\n",
      " [-5.9395714 ]\n",
      " [-5.4560404 ]\n",
      " [-4.7789245 ]\n",
      " [-4.5972366 ]\n",
      " [-4.6668324 ]\n",
      " [-6.051662  ]\n",
      " [-4.027464  ]\n",
      " [-4.4429965 ]\n",
      " [-4.012938  ]\n",
      " [-4.9722815 ]\n",
      " [-4.7839    ]\n",
      " [-4.928532  ]\n",
      " [-4.160484  ]\n",
      " [-4.8293076 ]\n",
      " [-4.5842533 ]\n",
      " [-4.832684  ]\n",
      " [-4.903997  ]\n",
      " [-4.6151357 ]\n",
      " [-3.889525  ]\n",
      " [-3.9479146 ]]\n"
     ]
    }
   ],
   "source": [
    "# 테스트\n",
    "y_pre = iris_Model(feature_TS)\n",
    "\n",
    "print(f'{y_pre}')"
   ]
  }
 ],
 "metadata": {
  "kernelspec": {
   "display_name": "TENSOR_39",
   "language": "python",
   "name": "python3"
  },
  "language_info": {
   "codemirror_mode": {
    "name": "ipython",
    "version": 3
   },
   "file_extension": ".py",
   "mimetype": "text/x-python",
   "name": "python",
   "nbconvert_exporter": "python",
   "pygments_lexer": "ipython3",
   "version": "3.9.18"
  }
 },
 "nbformat": 4,
 "nbformat_minor": 2
}
