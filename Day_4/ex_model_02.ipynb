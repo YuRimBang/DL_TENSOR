{
 "cells": [
  {
   "cell_type": "markdown",
   "metadata": {},
   "source": [
    "#### 전결합층 모델 생성\n",
    "- Full-Connected Layer로 FC라고 명명\n",
    "- 특징\n",
    "    * 모든 입력 피쳐/데이터와 가중치(w) 곱셉 후 합계 즉, 가중합 계산 + 절편\n",
    "    * 가중합 + 절편\n",
    "- 필요 요소\n",
    "    * 가중치와 절편 텐서 -> 학습에 의해 업데이트 진행이 되어야 함 -> 변경이 가능해야한다 tf.Variable()\n",
    "    * 가중치 개수 : 입력 피처 수\n",
    "    * 절편   개수 : 1개\n",
    "    * 출력   개수 : 층에 존재 하는 퍼셉트론 개수"
   ]
  },
  {
   "cell_type": "markdown",
   "metadata": {},
   "source": [
    "[1] 모듈 로딩"
   ]
  },
  {
   "cell_type": "code",
   "execution_count": 47,
   "metadata": {},
   "outputs": [],
   "source": [
    "import tensorflow as tf\n",
    "import numpy as np"
   ]
  },
  {
   "cell_type": "markdown",
   "metadata": {},
   "source": [
    "[2] 모델 클래스 설계 및 정의"
   ]
  },
  {
   "cell_type": "code",
   "execution_count": 48,
   "metadata": {},
   "outputs": [],
   "source": [
    "### 데  이   터 : 1개 피쳐 , 1개 타겟 \n",
    "### 학 습 종 류 : 지도/비지도/강화 --> 지도 --> 회귀/분류  : 지도/회귀\n",
    "### 클래스 기능 : 스칼라 데이터 처리 모델\n",
    "### 클래스 이름 : SimpleModel\n",
    "### 클래스 속성 : W, b\n",
    "\n",
    "class SimpleModel(tf.Module):\n",
    "    #모델 인스턴스 생성 메서드\n",
    "    def __init__(self):\n",
    "        super().__init__()\n",
    "        self.W = tf.Variable(tf.random.normal((1,)))\n",
    "        self.b = tf.zeros((1,))\n",
    "\n",
    "    #학습 메서드\n",
    "    def __call__(self, input_data):\n",
    "        return self.W * input_data + self.b"
   ]
  },
  {
   "cell_type": "code",
   "execution_count": 49,
   "metadata": {},
   "outputs": [],
   "source": [
    "### 데 이 터 셋 : (8,3)\n",
    "### 피쳐  shape : (8,2)\n",
    "### 타겟  shape : (8,1)\n",
    "### 학 습 종 류 : 지도/비지도/강화 --> 지도\n",
    "### 클래스 목적 : 전결합 처리 모델\n",
    "### 클래스 이름 : DenseModel\n",
    "### 클래스 속성 : W, b\n",
    "### 클래스 기능 : 가중합 + b 반환\n",
    "\n",
    "class DenseModel(tf.Module):\n",
    "    #모델 인스턴스 생성 메서드\n",
    "    # in_nums : 피쳐 수, out_nums : 층의 퍼센트롭 개수(뉴런수)\n",
    "    def __init__(self, input_nums, out_nums):\n",
    "        super().__init__()\n",
    "        self.W = tf.Variable(tf.random.normal((input_nums, out_nums)))\n",
    "        self.b = tf.Variable(tf.zeros((out_nums)))\n",
    "    \n",
    "    #학습 진행 메서드\n",
    "    def __call__(self, input):\n",
    "        wbsum = tf.matmul(input, self.W) + self.b\n",
    "\n",
    "        return wbsum\n"
   ]
  },
  {
   "cell_type": "markdown",
   "metadata": {},
   "source": [
    "- 가중합 연산 동작 원리"
   ]
  },
  {
   "cell_type": "code",
   "execution_count": 50,
   "metadata": {},
   "outputs": [
    {
     "name": "stdout",
     "output_type": "stream",
     "text": [
      "w -> (2, 5), b -> (5,), x->(5, 2)\n",
      "tf.matmul(x, W) + b = [[ 4.992835   3.8174655  7.9467354  9.12069   -1.3494571]\n",
      " [ 5.284107   4.3565445  9.037457  11.047821  -1.9935997]\n",
      " [ 8.071796   6.8043556 14.101547  17.535295  -3.312471 ]\n",
      " [ 9.17437    7.489183  15.54287   18.851902  -3.3277638]\n",
      " [12.253331  10.476072  21.697681  27.26651   -5.290777 ]]\n"
     ]
    }
   ],
   "source": [
    "out_nums = 5\n",
    "W = tf.Variable(tf.random.normal((2, out_nums)))\n",
    "b = tf.Variable(tf.zeros((out_nums))) \n",
    "x = tf.constant([[2,4],[3,4], [5,6], [5,7], [8,9]], dtype='float32')\n",
    "\n",
    "print(f'w -> {W.shape}, b -> {b.shape}, x->{x.shape}')\n",
    "print(f'tf.matmul(x, W) + b = {tf.matmul(x, W) + b}')"
   ]
  },
  {
   "cell_type": "markdown",
   "metadata": {},
   "source": [
    "- 주의 사항 ! 곱셈 연산시 타입 일치가 필요!!"
   ]
  },
  {
   "cell_type": "code",
   "execution_count": 51,
   "metadata": {},
   "outputs": [
    {
     "name": "stdout",
     "output_type": "stream",
     "text": [
      "w --> (1,), b --> (1,), data --> ()\n",
      "data * W + b = [-1.3383757]\n"
     ]
    }
   ],
   "source": [
    "W = tf.Variable(tf.random.normal((1,)))\n",
    "b = tf.zeros((1,))\n",
    "data = tf.constant(2, dtype=tf.float32) # 타입 일치를 위해 형변환 설정\n",
    "\n",
    "print(f'w --> {W.shape}, b --> {b.shape}, data --> {data.shape}')\n",
    "print(f'data * W + b = {data * W + b}')"
   ]
  },
  {
   "cell_type": "markdown",
   "metadata": {},
   "source": [
    "[3] 모델 인스턴스 생성 및 학습"
   ]
  },
  {
   "cell_type": "code",
   "execution_count": 52,
   "metadata": {},
   "outputs": [],
   "source": [
    "### 인스턴스 생성\n",
    "model = SimpleModel()"
   ]
  },
  {
   "cell_type": "code",
   "execution_count": 53,
   "metadata": {},
   "outputs": [
    {
     "data": {
      "text/plain": [
       "<tf.Tensor: shape=(1,), dtype=float32, numpy=array([-3.0190547], dtype=float32)>"
      ]
     },
     "execution_count": 53,
     "metadata": {},
     "output_type": "execute_result"
    }
   ],
   "source": [
    "### 학습\n",
    "model( tf.constant(2, dtype='float32') )"
   ]
  },
  {
   "cell_type": "markdown",
   "metadata": {},
   "source": [
    "- 전결합층 모델 인스턴스 처리"
   ]
  },
  {
   "cell_type": "code",
   "execution_count": 54,
   "metadata": {},
   "outputs": [],
   "source": [
    "## 모델 인스턴스 생성\n",
    "fcModel = DenseModel(4, 1)"
   ]
  },
  {
   "cell_type": "code",
   "execution_count": 55,
   "metadata": {},
   "outputs": [
    {
     "data": {
      "text/plain": [
       "TensorShape([2, 4])"
      ]
     },
     "execution_count": 55,
     "metadata": {},
     "output_type": "execute_result"
    }
   ],
   "source": [
    "## 데이터셋\n",
    "dataDS = tf.constant([[1,2,3,4], [1,4,5,2]], dtype=tf.float32)\n",
    "dataDS.shape"
   ]
  },
  {
   "cell_type": "code",
   "execution_count": 60,
   "metadata": {},
   "outputs": [
    {
     "name": "stdout",
     "output_type": "stream",
     "text": [
      "tf.Tensor(\n",
      "[[-2.1506042 ]\n",
      " [-0.46561563]], shape=(2, 1), dtype=float32)\n"
     ]
    }
   ],
   "source": [
    "resultDS = fcModel(dataDS)\n",
    "print(resultDS)"
   ]
  },
  {
   "cell_type": "markdown",
   "metadata": {},
   "source": [
    "- 활성화 함수 적용"
   ]
  },
  {
   "cell_type": "code",
   "execution_count": 62,
   "metadata": {},
   "outputs": [
    {
     "data": {
      "text/plain": [
       "<tf.Tensor: shape=(2, 1), dtype=float32, numpy=\n",
       "array([[0.10427477],\n",
       "       [0.3856545 ]], dtype=float32)>"
      ]
     },
     "execution_count": 62,
     "metadata": {},
     "output_type": "execute_result"
    }
   ],
   "source": [
    "### 시그모이드 AF : 0.0 ~ 1.0 확률값 변환\n",
    "tf.nn.sigmoid(resultDS)"
   ]
  },
  {
   "cell_type": "code",
   "execution_count": 63,
   "metadata": {},
   "outputs": [
    {
     "data": {
      "text/plain": [
       "array([[0.],\n",
       "       [0.]], dtype=float32)"
      ]
     },
     "execution_count": 63,
     "metadata": {},
     "output_type": "execute_result"
    }
   ],
   "source": [
    "## 렐루 AF : 0 <= ~ 결과값 반환\n",
    "tf.nn.relu(resultDS).numpy()"
   ]
  },
  {
   "cell_type": "code",
   "execution_count": 64,
   "metadata": {},
   "outputs": [
    {
     "data": {
      "text/plain": [
       "array([[-0.43012086],\n",
       "       [-0.09312313]], dtype=float32)"
      ]
     },
     "execution_count": 64,
     "metadata": {},
     "output_type": "execute_result"
    }
   ],
   "source": [
    "## 리키렐루 AF : 0.00xx <= ~ 결과값 반환\n",
    "tf.nn.leaky_relu(resultDS).numpy()"
   ]
  },
  {
   "cell_type": "code",
   "execution_count": 65,
   "metadata": {},
   "outputs": [
    {
     "data": {
      "text/plain": [
       "array([[1.],\n",
       "       [1.]], dtype=float32)"
      ]
     },
     "execution_count": 65,
     "metadata": {},
     "output_type": "execute_result"
    }
   ],
   "source": [
    "## 소프트맥스(다중분류에 많이 쓰임) AF : 0.0 <= ~ <= 1.0 확률값 변환\n",
    "tf.nn.softmax(resultDS).numpy()"
   ]
  }
 ],
 "metadata": {
  "kernelspec": {
   "display_name": "TENSOR_39",
   "language": "python",
   "name": "python3"
  },
  "language_info": {
   "codemirror_mode": {
    "name": "ipython",
    "version": 3
   },
   "file_extension": ".py",
   "mimetype": "text/x-python",
   "name": "python",
   "nbconvert_exporter": "python",
   "pygments_lexer": "ipython3",
   "version": "3.9.18"
  }
 },
 "nbformat": 4,
 "nbformat_minor": 2
}
