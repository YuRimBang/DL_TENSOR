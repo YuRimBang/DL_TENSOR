{
 "cells": [
  {
   "cell_type": "markdown",
   "metadata": {},
   "source": [
    "#### Tenforflow 커스텀 모델 클래스\n",
    "- 최상의 부모 클래스 : tf.Module\n",
    "- 필수 오버라이딩 메서드\n",
    "    * def __ init __ (self) : 모델 구솔 설계 설정\n",
    "    * def __ call __ (self) : 순방향/전방향 학습 진행 및 결과 반환"
   ]
  },
  {
   "cell_type": "markdown",
   "metadata": {},
   "source": [
    "[1] 모듈 로딩"
   ]
  },
  {
   "cell_type": "code",
   "execution_count": 7,
   "metadata": {},
   "outputs": [],
   "source": [
    "import tensorflow as tf\n",
    "import numpy as np"
   ]
  },
  {
   "cell_type": "markdown",
   "metadata": {},
   "source": [
    "[2] 모델 클래스 설계 / 정의"
   ]
  },
  {
   "cell_type": "code",
   "execution_count": 8,
   "metadata": {},
   "outputs": [],
   "source": [
    "##-----------------------------------------------------\n",
    "## 모델 클래스 기본 형태 학인용\n",
    "## 클래스 이름 : TestModel\n",
    "## 부모 클래스 : tf.Module\n",
    "## 클래스 속성 : 없음\n",
    "## 클래스 기능 : 없음\n",
    "##-----------------------------------------------------\n",
    "\n",
    "class TestModel(tf.Module):\n",
    "\n",
    "    #모델 인스턴스 생성 메서드, 즉 생성자 메서드\n",
    "    # - W, b 파라미터 설정\n",
    "    # - layer 설정\n",
    "    def __init__(self):\n",
    "        super().__init__()\n",
    "\n",
    "    #순방향/전방향 학습 진행 메서드\n",
    "    def __call__(self, input_data):\n",
    "        # 층과 층 사이 학습 결과 전달 및 최종 결과 반환\n",
    "        print('__call__()')\n",
    "\n",
    "        return '결과'\n"
   ]
  },
  {
   "cell_type": "markdown",
   "metadata": {},
   "source": [
    "[3] 모델 인스턴스 생성"
   ]
  },
  {
   "cell_type": "code",
   "execution_count": 9,
   "metadata": {},
   "outputs": [],
   "source": [
    "# 변수명 = 클래스이름()\n",
    "myModel = TestModel()"
   ]
  },
  {
   "cell_type": "code",
   "execution_count": 10,
   "metadata": {},
   "outputs": [
    {
     "data": {
      "text/plain": [
       "('test_model',\n",
       " <tensorflow.python.framework.ops.name_scope_v2 at 0x1b08c8c22e0>)"
      ]
     },
     "execution_count": 10,
     "metadata": {},
     "output_type": "execute_result"
    }
   ],
   "source": [
    "# 모델 인스턴스 속성 읽기 : 변수명.속성명\n",
    "myModel.name, myModel.name_scope"
   ]
  },
  {
   "cell_type": "markdown",
   "metadata": {},
   "source": [
    "[4] 학습 -> 모델인스턴스명(학습용 데이터셋)"
   ]
  },
  {
   "cell_type": "code",
   "execution_count": 11,
   "metadata": {},
   "outputs": [
    {
     "name": "stdout",
     "output_type": "stream",
     "text": [
      "__call__()\n"
     ]
    }
   ],
   "source": [
    "myModel([10,20])"
   ]
  }
 ],
 "metadata": {
  "kernelspec": {
   "display_name": "TENSOR_39",
   "language": "python",
   "name": "python3"
  },
  "language_info": {
   "codemirror_mode": {
    "name": "ipython",
    "version": 3
   },
   "file_extension": ".py",
   "mimetype": "text/x-python",
   "name": "python",
   "nbconvert_exporter": "python",
   "pygments_lexer": "ipython3",
   "version": "3.9.18"
  }
 },
 "nbformat": 4,
 "nbformat_minor": 2
}
